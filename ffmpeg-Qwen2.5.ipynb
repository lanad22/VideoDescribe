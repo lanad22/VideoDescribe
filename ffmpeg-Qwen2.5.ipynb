{
 "cells": [
  {
   "cell_type": "code",
   "execution_count": 1,
   "metadata": {},
   "outputs": [],
   "source": [
    "import torchvision\n",
    "import transformers\n",
    "import torch"
   ]
  },
  {
   "cell_type": "code",
   "execution_count": 2,
   "metadata": {},
   "outputs": [
    {
     "data": {
      "application/vnd.jupyter.widget-view+json": {
       "model_id": "ef397b31779c44dc905706c8aedb2bb7",
       "version_major": 2,
       "version_minor": 0
      },
      "text/plain": [
       "Loading checkpoint shards:   0%|          | 0/5 [00:00<?, ?it/s]"
      ]
     },
     "metadata": {},
     "output_type": "display_data"
    }
   ],
   "source": [
    "from transformers import Qwen2_5_VLForConditionalGeneration, AutoTokenizer, AutoProcessor, GenerationConfig\n",
    "from qwen_vl_utils import process_vision_info\n",
    "\n",
    "model = Qwen2_5_VLForConditionalGeneration.from_pretrained(\n",
    "    \"Qwen/Qwen2.5-VL-7B-Instruct\", torch_dtype=\"auto\", device_map=\"auto\"\n",
    ")\n",
    "processor = AutoProcessor.from_pretrained(\"Qwen/Qwen2.5-VL-7B-Instruct\")"
   ]
  },
  {
   "cell_type": "code",
   "execution_count": 3,
   "metadata": {},
   "outputs": [],
   "source": [
    "video_path = \"videos/rlOywSJnPOU/rlOywSJnPOU_scenes/scene_002.mp4\"\n",
    "output_path = \"videos/rlOywSJnPOU/frames\""
   ]
  },
  {
   "cell_type": "code",
   "execution_count": 3,
   "metadata": {},
   "outputs": [
    {
     "name": "stdout",
     "output_type": "stream",
     "text": [
      "ffmpeg version 7.1 Copyright (c) 2000-2024 the FFmpeg developers\n",
      "  built with gcc 13.3.0 (conda-forge gcc 13.3.0-1)\n",
      "  configuration: --prefix=/home/do.ng/.conda/envs/CS7980_YouDescribe --cc=/home/conda/feedstock_root/build_artifacts/ffmpeg_1728332263724/_build_env/bin/x86_64-conda-linux-gnu-cc --cxx=/home/conda/feedstock_root/build_artifacts/ffmpeg_1728332263724/_build_env/bin/x86_64-conda-linux-gnu-c++ --nm=/home/conda/feedstock_root/build_artifacts/ffmpeg_1728332263724/_build_env/bin/x86_64-conda-linux-gnu-nm --ar=/home/conda/feedstock_root/build_artifacts/ffmpeg_1728332263724/_build_env/bin/x86_64-conda-linux-gnu-ar --disable-doc --enable-openssl --enable-demuxer=dash --enable-hardcoded-tables --enable-libfreetype --enable-libharfbuzz --enable-libfontconfig --enable-libopenh264 --enable-libdav1d --disable-gnutls --enable-libmp3lame --enable-libvpx --enable-libass --enable-pthreads --enable-vaapi --enable-libopenvino --enable-gpl --enable-libx264 --enable-libx265 --enable-libaom --enable-libsvtav1 --enable-libxml2 --enable-pic --enable-shared --disable-static --enable-version3 --enable-zlib --enable-libopus --pkg-config=/home/conda/feedstock_root/build_artifacts/ffmpeg_1728332263724/_build_env/bin/pkg-config\n",
      "  libavutil      59. 39.100 / 59. 39.100\n",
      "  libavcodec     61. 19.100 / 61. 19.100\n",
      "  libavformat    61.  7.100 / 61.  7.100\n",
      "  libavdevice    61.  3.100 / 61.  3.100\n",
      "  libavfilter    10.  4.100 / 10.  4.100\n",
      "  libswscale      8.  3.100 /  8.  3.100\n",
      "  libswresample   5.  3.100 /  5.  3.100\n",
      "  libpostproc    58.  3.100 / 58.  3.100\n",
      "\u001b[0;33m-vsync is deprecated. Use -fps_mode\n",
      "\u001b[0mInput #0, mov,mp4,m4a,3gp,3g2,mj2, from 'videos/rlOywSJnPOU/rlOywSJnPOU_scenes/scene_002.mp4':\n",
      "  Metadata:\n",
      "    major_brand     : isom\n",
      "    minor_version   : 512\n",
      "    compatible_brands: isomiso2mp41\n",
      "    encoder         : Lavf59.27.100\n",
      "  Duration: 00:00:37.00, start: 0.000000, bitrate: 6973 kb/s\n",
      "  Stream #0:0[0x1](und): Video: mpeg4 (Simple Profile) (mp4v / 0x7634706D), yuv420p, 1920x1080 [SAR 1:1 DAR 16:9], 6972 kb/s, 29.97 fps, 29.97 tbr, 11988 tbn (default)\n",
      "      Metadata:\n",
      "        handler_name    : VideoHandler\n",
      "        vendor_id       : [0][0][0][0]\n",
      "Stream mapping:\n",
      "  Stream #0:0 -> #0:0 (mpeg4 (native) -> h264 (libx264))\n",
      "Press [q] to stop, [?] for help\n",
      "\u001b[1;36m[libx264 @ 0x5598adbc5fc0] \u001b[0musing SAR=1/1\n",
      "\u001b[1;36m[libx264 @ 0x5598adbc5fc0] \u001b[0musing cpu capabilities: MMX2 SSE2Fast SSSE3 SSE4.2 AVX FMA3 BMI2 AVX2\n",
      "\u001b[1;36m[libx264 @ 0x5598adbc5fc0] \u001b[0mprofile High, level 4.0, 4:2:0, 8-bit\n",
      "\u001b[1;36m[libx264 @ 0x5598adbc5fc0] \u001b[0m264 - core 164 r3095 baee400 - H.264/MPEG-4 AVC codec - Copyleft 2003-2022 - http://www.videolan.org/x264.html - options: cabac=1 ref=3 deblock=1:0:0 analyse=0x3:0x113 me=hex subme=7 psy=1 psy_rd=1.00:0.00 mixed_ref=1 me_range=16 chroma_me=1 trellis=1 8x8dct=1 cqm=0 deadzone=21,11 fast_pskip=1 chroma_qp_offset=-2 threads=6 lookahead_threads=1 sliced_threads=0 nr=0 decimate=1 interlaced=0 bluray_compat=0 constrained_intra=0 bframes=3 b_pyramid=2 b_adapt=1 b_bias=0 direct=1 weightb=1 open_gop=0 weightp=2 keyint=250 keyint_min=25 scenecut=40 intra_refresh=0 rc_lookahead=40 rc=crf mbtree=1 crf=23.0 qcomp=0.60 qpmin=0 qpmax=69 qpstep=4 ip_ratio=1.40 aq=1:1.00\n",
      "Output #0, mp4, to 'videos/rlOywSJnPOU/frames/keyframes.mp4':\n",
      "  Metadata:\n",
      "    major_brand     : isom\n",
      "    minor_version   : 512\n",
      "    compatible_brands: isomiso2mp41\n",
      "    encoder         : Lavf61.7.100\n",
      "  Stream #0:0(und): Video: h264 (avc1 / 0x31637661), yuv420p(tv, progressive), 1920x1080 [SAR 1:1 DAR 16:9], q=2-31, 29.97 fps, 11988 tbn (default)\n",
      "      Metadata:\n",
      "        handler_name    : VideoHandler\n",
      "        vendor_id       : [0][0][0][0]\n",
      "        encoder         : Lavc61.19.100 libx264\n",
      "      Side data:\n",
      "        cpb: bitrate max/min/avg: 0/0/0 buffer size: 0 vbv_delay: N/A\n",
      "\u001b[1;35m[out#0/mp4 @ 0x5598adbcb540] \u001b[0mvideo:6593KiB audio:0KiB subtitle:0KiB other streams:0KiB global headers:0KiB muxing overhead: 0.029566%\n",
      "frame=   99 fps= 17 q=-1.0 Lsize=    6595KiB time=00:00:35.93 bitrate=1503.3kbits/s speed=6.32x    \n",
      "\u001b[1;36m[libx264 @ 0x5598adbc5fc0] \u001b[0mframe I:6     Avg QP:13.93  size: 97383\n",
      "\u001b[1;36m[libx264 @ 0x5598adbc5fc0] \u001b[0mframe P:57    Avg QP:15.28  size: 73346\n",
      "\u001b[1;36m[libx264 @ 0x5598adbc5fc0] \u001b[0mframe B:36    Avg QP:15.84  size: 55147\n",
      "\u001b[1;36m[libx264 @ 0x5598adbc5fc0] \u001b[0mconsecutive B-frames: 39.4% 32.3% 12.1% 16.2%\n",
      "\u001b[1;36m[libx264 @ 0x5598adbc5fc0] \u001b[0mmb I  I16..4: 30.1% 66.0%  3.9%\n",
      "\u001b[1;36m[libx264 @ 0x5598adbc5fc0] \u001b[0mmb P  I16..4: 12.7% 57.9%  2.1%  P16..4: 12.5%  5.9%  5.1%  0.0%  0.0%    skip: 3.7%\n",
      "\u001b[1;36m[libx264 @ 0x5598adbc5fc0] \u001b[0mmb B  I16..4:  8.9% 33.0%  1.1%  B16..8: 16.2% 10.3%  4.1%  direct:15.2%  skip:11.1%  L0:45.4% L1:41.8% BI:12.7%\n",
      "\u001b[1;36m[libx264 @ 0x5598adbc5fc0] \u001b[0m8x8 transform intra:77.6% inter:86.6%\n",
      "\u001b[1;36m[libx264 @ 0x5598adbc5fc0] \u001b[0mcoded y,uvDC,uvAC intra: 55.1% 44.1% 10.1% inter: 46.9% 47.9% 3.3%\n",
      "\u001b[1;36m[libx264 @ 0x5598adbc5fc0] \u001b[0mi16 v,h,dc,p: 41% 35% 13% 11%\n",
      "\u001b[1;36m[libx264 @ 0x5598adbc5fc0] \u001b[0mi8 v,h,dc,ddl,ddr,vr,hd,vl,hu: 21% 33% 31%  3%  2%  1%  4%  2%  3%\n",
      "\u001b[1;36m[libx264 @ 0x5598adbc5fc0] \u001b[0mi4 v,h,dc,ddl,ddr,vr,hd,vl,hu: 33% 37% 11%  3%  4%  3%  5%  2%  2%\n",
      "\u001b[1;36m[libx264 @ 0x5598adbc5fc0] \u001b[0mi8c dc,h,v,p: 47% 29% 18%  5%\n",
      "\u001b[1;36m[libx264 @ 0x5598adbc5fc0] \u001b[0mWeighted P-Frames: Y:15.8% UV:14.0%\n",
      "\u001b[1;36m[libx264 @ 0x5598adbc5fc0] \u001b[0mref P L0: 59.9% 16.0% 15.8%  8.0%  0.2%\n",
      "\u001b[1;36m[libx264 @ 0x5598adbc5fc0] \u001b[0mref B L0: 75.4% 23.2%  1.5%\n",
      "\u001b[1;36m[libx264 @ 0x5598adbc5fc0] \u001b[0mref B L1: 96.4%  3.6%\n",
      "\u001b[1;36m[libx264 @ 0x5598adbc5fc0] \u001b[0mkb/s:1455.44\n"
     ]
    }
   ],
   "source": [
    "!ffmpeg -i {video_path} -vf \"select='eq(pict_type,PICT_TYPE_I)'\" -vsync vfr {output_path}/keyframes.mp4\n"
   ]
  },
  {
   "cell_type": "code",
   "execution_count": 3,
   "metadata": {},
   "outputs": [
    {
     "name": "stdout",
     "output_type": "stream",
     "text": [
      "ffmpeg version 7.1 Copyright (c) 2000-2024 the FFmpeg developers\n",
      "  built with gcc 13.3.0 (conda-forge gcc 13.3.0-1)\n",
      "  configuration: --prefix=/home/do.ng/.conda/envs/CS7980_YouDescribe --cc=/home/conda/feedstock_root/build_artifacts/ffmpeg_1728332263724/_build_env/bin/x86_64-conda-linux-gnu-cc --cxx=/home/conda/feedstock_root/build_artifacts/ffmpeg_1728332263724/_build_env/bin/x86_64-conda-linux-gnu-c++ --nm=/home/conda/feedstock_root/build_artifacts/ffmpeg_1728332263724/_build_env/bin/x86_64-conda-linux-gnu-nm --ar=/home/conda/feedstock_root/build_artifacts/ffmpeg_1728332263724/_build_env/bin/x86_64-conda-linux-gnu-ar --disable-doc --enable-openssl --enable-demuxer=dash --enable-hardcoded-tables --enable-libfreetype --enable-libharfbuzz --enable-libfontconfig --enable-libopenh264 --enable-libdav1d --disable-gnutls --enable-libmp3lame --enable-libvpx --enable-libass --enable-pthreads --enable-vaapi --enable-libopenvino --enable-gpl --enable-libx264 --enable-libx265 --enable-libaom --enable-libsvtav1 --enable-libxml2 --enable-pic --enable-shared --disable-static --enable-version3 --enable-zlib --enable-libopus --pkg-config=/home/conda/feedstock_root/build_artifacts/ffmpeg_1728332263724/_build_env/bin/pkg-config\n",
      "  libavutil      59. 39.100 / 59. 39.100\n",
      "  libavcodec     61. 19.100 / 61. 19.100\n",
      "  libavformat    61.  7.100 / 61.  7.100\n",
      "  libavdevice    61.  3.100 / 61.  3.100\n",
      "  libavfilter    10.  4.100 / 10.  4.100\n",
      "  libswscale      8.  3.100 /  8.  3.100\n",
      "  libswresample   5.  3.100 /  5.  3.100\n",
      "  libpostproc    58.  3.100 / 58.  3.100\n",
      "\u001b[0;33m-vsync is deprecated. Use -fps_mode\n",
      "\u001b[0mInput #0, mov,mp4,m4a,3gp,3g2,mj2, from 'videos/rlOywSJnPOU/rlOywSJnPOU_scenes/scene_002.mp4':\n",
      "  Metadata:\n",
      "    major_brand     : isom\n",
      "    minor_version   : 512\n",
      "    compatible_brands: isomiso2mp41\n",
      "    encoder         : Lavf59.27.100\n",
      "  Duration: 00:00:37.00, start: 0.000000, bitrate: 6973 kb/s\n",
      "  Stream #0:0[0x1](und): Video: mpeg4 (Simple Profile) (mp4v / 0x7634706D), yuv420p, 1920x1080 [SAR 1:1 DAR 16:9], 6972 kb/s, 29.97 fps, 29.97 tbr, 11988 tbn (default)\n",
      "      Metadata:\n",
      "        handler_name    : VideoHandler\n",
      "        vendor_id       : [0][0][0][0]\n",
      "Stream mapping:\n",
      "  Stream #0:0 -> #0:0 (mpeg4 (native) -> mjpeg (native))\n",
      "Press [q] to stop, [?] for help\n",
      "Output #0, image2, to 'videos/rlOywSJnPOU/frames/%05d.jpg':\n",
      "  Metadata:\n",
      "    major_brand     : isom\n",
      "    minor_version   : 512\n",
      "    compatible_brands: isomiso2mp41\n",
      "    encoder         : Lavf61.7.100\n",
      "  Stream #0:0(und): Video: mjpeg, yuv420p(pc, progressive), 1920x1080 [SAR 1:1 DAR 16:9], q=2-31, 200 kb/s, 29.97 fps, 29.97 tbn (default)\n",
      "      Metadata:\n",
      "        handler_name    : VideoHandler\n",
      "        vendor_id       : [0][0][0][0]\n",
      "        encoder         : Lavc61.19.100 mjpeg\n",
      "      Side data:\n",
      "        cpb: bitrate max/min/avg: 0/0/200000 buffer size: 0 vbv_delay: N/A\n",
      "\u001b[1;35m[out#0/image2 @ 0x563cc8008400] \u001b[0mvideo:9768KiB audio:0KiB subtitle:0KiB other streams:0KiB global headers:0KiB muxing overhead: unknown\n",
      "frame=   99 fps= 24 q=2.0 Lsize=N/A time=00:00:36.73 bitrate=N/A speed=9.08x    \n"
     ]
    }
   ],
   "source": [
    "!ffmpeg -i {video_path} -vf \"select='eq(pict_type,PICT_TYPE_I)'\" -vsync vfr -q:v 2 {output_path}/'%05d.jpg'\n"
   ]
  },
  {
   "cell_type": "code",
   "execution_count": 6,
   "metadata": {},
   "outputs": [],
   "source": [
    "import os\n",
    "\n",
    "def get_frame_list(frames_path):\n",
    "    frame_files = sorted(\n",
    "        [os.path.join(frames_path, f) for f in os.listdir(frames_path) if f.endswith('.jpg')]\n",
    "    )\n",
    "    return frame_files  # Return list of image paths\n"
   ]
  },
  {
   "cell_type": "code",
   "execution_count": 13,
   "metadata": {},
   "outputs": [],
   "source": [
    "import torch.backends.cuda\n",
    "import numpy as np\n",
    "import time\n",
    "\n",
    "def generate_scene_caption(video_path=\"videos/rlOywSJnPOU/keyframes.mp4\", \n",
    "                         frames_path=\"videos/rlOywSJnPOU/frames\", \n",
    "                         use_frames=False, \n",
    "                         batch_size=32,\n",
    "                         max_frames=32,\n",
    "                         prompt=None):  \n",
    "    \n",
    "    start_time = time.time()\n",
    "    torch.cuda.empty_cache()\n",
    "    torch.backends.cuda.enable_mem_efficient_sdp(True)\n",
    "\n",
    "    dtype = torch.bfloat16\n",
    "    output_list = []\n",
    "\n",
    "    if use_frames:\n",
    "        all_frames = get_frame_list(frames_path)\n",
    "        total_frames = len(all_frames) \n",
    "        \n",
    "        # Uniform sampling\n",
    "        if max_frames < total_frames:\n",
    "            indices = np.linspace(0, total_frames - 1, max_frames, dtype=int)\n",
    "            selected_frames = [all_frames[i] for i in indices]\n",
    "        else:\n",
    "            selected_frames = all_frames\n",
    "            \n",
    "        print(f\"Processing {len(selected_frames)} frames from {total_frames} total frames\")\n",
    "\n",
    "        effective_batch_size = min(batch_size, len(selected_frames))\n",
    "        num_batches = (len(selected_frames) + effective_batch_size - 1) // effective_batch_size\n",
    "        print(f\"Processing in {num_batches} batches of max size {effective_batch_size}\")\n",
    "\n",
    "        with torch.no_grad():\n",
    "            with torch.amp.autocast('cuda', dtype=dtype):\n",
    "                for segment in range(num_batches):\n",
    "                    start_idx = segment * effective_batch_size\n",
    "                    end_idx = min(start_idx + effective_batch_size, len(selected_frames))\n",
    "                    batch_frames = selected_frames[start_idx:end_idx]\n",
    "\n",
    "                    if not batch_frames:\n",
    "                        continue\n",
    "\n",
    "                    messages = [\n",
    "                        {\n",
    "                            \"role\": \"user\",\n",
    "                            \"content\": [\n",
    "                                {\n",
    "                                    \"type\": \"video\",\n",
    "                                    \"video\": batch_frames,  \n",
    "                                    \"max_pixels\": 320 * 240,  \n",
    "                                },\n",
    "                                {\"type\": \"text\", \"text\": prompt},\n",
    "                            ],\n",
    "                        }\n",
    "                    ]\n",
    "\n",
    "                    text = processor.apply_chat_template(\n",
    "                        messages, tokenize=False, add_generation_prompt=True\n",
    "                    )\n",
    "                    image_inputs, video_inputs = process_vision_info(messages)\n",
    "                    inputs = processor(\n",
    "                        text=[text],\n",
    "                        images=image_inputs,\n",
    "                        videos=video_inputs,\n",
    "                        padding=True,\n",
    "                        return_tensors=\"pt\",\n",
    "                    ).to(\"cuda\", dtype=dtype)\n",
    "\n",
    "                    input_length = inputs.input_ids.shape[1]\n",
    "                    generation_config = GenerationConfig(\n",
    "                        max_new_tokens=512,  \n",
    "                        do_sample=False,\n",
    "                        num_beams=1\n",
    "                    )\n",
    "                    generated_ids = model.generate(\n",
    "                        **inputs,\n",
    "                        generation_config=generation_config\n",
    "                    )\n",
    "\n",
    "                    generated_ids_trimmed = generated_ids[:, input_length:]\n",
    "                    batch_output = processor.batch_decode(\n",
    "                        generated_ids_trimmed,\n",
    "                        skip_special_tokens=True,\n",
    "                        clean_up_tokenization_spaces=False\n",
    "                    )\n",
    "\n",
    "                    output_list.extend(batch_output)\n",
    "                    print(f\"Completed batch {segment + 1}/{num_batches}\")\n",
    "                    del inputs, generated_ids, generated_ids_trimmed\n",
    "\n",
    "    else:\n",
    "        with torch.no_grad():\n",
    "            with torch.amp.autocast('cuda', dtype=dtype):\n",
    "                messages = [\n",
    "                    {\n",
    "                        \"role\": \"user\",\n",
    "                        \"content\": [\n",
    "                            {\n",
    "                                \"type\": \"video\",\n",
    "                                \"video\": video_path,\n",
    "                                \"max_pixels\": 320 * 240,\n",
    "                                \"max_frame\": max_frames,  \n",
    "                            },\n",
    "                            {\"type\": \"text\", \"text\": prompt},\n",
    "                        ],\n",
    "                    }\n",
    "                ]\n",
    "\n",
    "                text = processor.apply_chat_template(\n",
    "                    messages, tokenize=False, add_generation_prompt=True\n",
    "                )\n",
    "                image_inputs, video_inputs = process_vision_info(messages)\n",
    "                inputs = processor(\n",
    "                    text=[text],\n",
    "                    images=image_inputs,\n",
    "                    videos=video_inputs,\n",
    "                    padding=True,\n",
    "                    return_tensors=\"pt\",\n",
    "                ).to(\"cuda\", dtype=dtype)\n",
    "\n",
    "                input_length = inputs.input_ids.shape[1]\n",
    "                generation_config = GenerationConfig(\n",
    "                    max_new_tokens=512,  # Reduced from 256\n",
    "                    do_sample=False,\n",
    "                    num_beams=1\n",
    "                )\n",
    "                generated_ids = model.generate(\n",
    "                    **inputs,\n",
    "                    generation_config=generation_config\n",
    "                )\n",
    "\n",
    "                generated_ids_trimmed = generated_ids[:, input_length:]\n",
    "                batch_output = processor.batch_decode(\n",
    "                    generated_ids_trimmed,\n",
    "                    skip_special_tokens=True,\n",
    "                    clean_up_tokenization_spaces=False\n",
    "                )\n",
    "\n",
    "                output_list.extend(batch_output)\n",
    "                del inputs, generated_ids, generated_ids_trimmed\n",
    "\n",
    "    torch.cuda.empty_cache()\n",
    "    \n",
    "    processing_time = time.time() - start_time\n",
    "    print(f\"Total processing time: {processing_time:.2f} seconds\")\n",
    "\n",
    "    final_caption = \" \".join(output_list).strip()\n",
    "    return final_caption if final_caption else \"\""
   ]
  },
  {
   "cell_type": "code",
   "execution_count": 7,
   "metadata": {},
   "outputs": [
    {
     "name": "stdout",
     "output_type": "stream",
     "text": [
      "Processing 32 frames from 99 total frames\n",
      "Processing in 1 batches of max size 32\n",
      "Completed batch 1/1\n",
      "Total processing time: 17.55 seconds\n"
     ]
    },
    {
     "data": {
      "text/plain": [
       "'The video shows a person preparing ingredients for a dish. The sequence begins with a close-up of a hand holding a tomato, which is then sliced into thin rounds on a wooden cutting board. The text \"Tomato | 토마토\" appears on the screen, indicating the ingredient being used. Next, the person slices an onion into small pieces, with the text \"Onion | 양파\" displayed. Following this, the person chops celery into small, uniform pieces, with the text \"Celery | 셀러리(오이가능)\" appearing. Finally, the person places a small glass bowl containing a green pickle on the cutting board. The video focuses on the detailed process of chopping and preparing the ingredients, showcasing the precision and care taken in the preparation.'"
      ]
     },
     "execution_count": 7,
     "metadata": {},
     "output_type": "execute_result"
    }
   ],
   "source": [
    "generate_scene_caption(use_frames=True, max_frames=32, prompt = \"Describe the video.\")"
   ]
  },
  {
   "cell_type": "code",
   "execution_count": 9,
   "metadata": {},
   "outputs": [
    {
     "name": "stdout",
     "output_type": "stream",
     "text": [
      "Processing 56 frames from 99 total frames\n",
      "Processing in 1 batches of max size 56\n",
      "Completed batch 1/1\n",
      "Total processing time: 23.23 seconds\n"
     ]
    },
    {
     "data": {
      "text/plain": [
       "'The video showcases a step-by-step process of preparing ingredients for a dish. It begins with a close-up of a hand placing a tomato on a wooden cutting board. The tomato is then sliced into thick rounds, with the text \"Tomato | 토마토\" appearing on the screen, indicating the ingredient and its Korean name. The hand continues to slice the tomato into smaller, even pieces, with the text \"토마토를 1cm 두께로 잘라준다\" (Cut the tomato into 1cm thick slices) providing instructions.\\n\\nNext, the scene transitions to the preparation of an onion. The hand is shown peeling and then finely chopping the onion, with the text \"Onion | 양파\" and \"양파를 다져준다\" (Chop the onion) appearing on the screen.\\n\\nFollowing this, the video shows the chopping of celery. The hand slices the celery into small, uniform pieces, with the text \"Celery | 셀러리(오이가능)\" and \"잘게 다져준다\" (Chop finely) displayed.\\n\\nFinally, the video shows a hand holding a small glass jar filled with cucumber pickles, with the text \"Cucumber pickle | 오이피클\" appearing on the screen. The scene suggests that the pickles will be used as an ingredient in the dish being prepared. The video focuses on the detailed process of cutting and preparing the ingredients, emphasizing the precision and care taken in each step.'"
      ]
     },
     "execution_count": 9,
     "metadata": {},
     "output_type": "execute_result"
    }
   ],
   "source": [
    "generate_scene_caption(use_frames=True, batch_size=56,max_frames=56, prompt = \"Describe the video.\")"
   ]
  },
  {
   "cell_type": "code",
   "execution_count": 11,
   "metadata": {},
   "outputs": [
    {
     "name": "stdout",
     "output_type": "stream",
     "text": [
      "Processing 99 frames from 99 total frames\n",
      "Processing in 4 batches of max size 32\n",
      "Completed batch 1/4\n",
      "Completed batch 2/4\n",
      "Completed batch 3/4\n",
      "Completed batch 4/4\n",
      "Total processing time: 34.21 seconds\n"
     ]
    },
    {
     "data": {
      "text/plain": [
       "'The video begins with a close-up of a wooden cutting board. A hand places a fresh, red tomato on the board. The hand then picks up a knife and begins to slice the tomato into thin, even rounds. The knife glides smoothly through the tomato, creating a pile of neatly sliced pieces. The video captures the process of slicing the tomato, emphasizing the precision and care taken in the task. The background is a simple, checkered cloth, which provides a clean and uncluttered setting for the activity. The video is likely part of a cooking tutorial or a food preparation demonstration. The video shows a person preparing ingredients for a dish. The first frame shows a hand slicing a tomato on a wooden cutting board. The text on the screen indicates that the tomato is being cut into slices for a sandwich. The second frame shows the same hand chopping an onion on the same cutting board. The text on the screen identifies the ingredient as \"Onion\" and mentions that it is being chopped. The third frame shows a hand placing a bunch of celery on the cutting board. The text on the screen identifies the ingredient as \"Celery\" and mentions that it is optional. The video appears to be a cooking tutorial, focusing on the preparation of ingredients for a sandwich or a similar dish. The video shows a person\\'s hands cutting a green vegetable, identified as celery, on a wooden cutting board. The person uses a large knife to slice the celery into smaller pieces, eventually dicing it into small cubes. The video includes text in Korean and English, with the English text reading \"or cucumber Celery\" and the Korean text translating to \"Cut finely.\" The final frame shows a hand holding a small jar labeled \"Cucumber pickle\" in both English and Korean. The background is a simple kitchen setting with a wooden surface. The video shows a close-up of a hand holding a small glass jar, which is being tilted to pour a small amount of a green, pickled cucumber into a pile of similar pickled cucumbers on a wooden cutting board. The text \"Cucumber pickle\" and \"오이피클\" (Korean for cucumber pickle) is displayed at the bottom of the screen, indicating the type of food being shown. The scene suggests a preparation or serving of pickled cucumbers, possibly as a side dish or snack.'"
      ]
     },
     "execution_count": 11,
     "metadata": {},
     "output_type": "execute_result"
    }
   ],
   "source": [
    "generate_scene_caption(use_frames=True, batch_size=32, max_frames=99, prompt = \"Describe the video.\")"
   ]
  },
  {
   "cell_type": "code",
   "execution_count": 12,
   "metadata": {},
   "outputs": [
    {
     "name": "stdout",
     "output_type": "stream",
     "text": [
      "Processing 99 frames from 99 total frames\n",
      "Processing in 2 batches of max size 56\n",
      "Completed batch 1/2\n",
      "Completed batch 2/2\n",
      "Total processing time: 24.53 seconds\n"
     ]
    },
    {
     "data": {
      "text/plain": [
       "'The video begins with a close-up of a wooden cutting board. A hand places a fresh tomato on the board and proceeds to slice it into thick rounds. The text \"Tomato | 토마토\" appears on the screen, indicating the ingredient being used. The hand carefully cuts the tomato into even slices, revealing its juicy interior with visible seeds and a vibrant red color. The text \"토마토를 1cm 두께로 잘라준다\" (Cut the tomato into 1cm thick slices) appears, providing instructions for the viewer.\\n\\nNext, the hand picks up an onion and begins to chop it into smaller pieces. The text \"Onion | 양파\" appears, identifying the new ingredient. The hand skillfully slices the onion, creating a pile of finely chopped pieces. The video demonstrates the process of preparing ingredients, likely for a recipe, with clear and concise instructions. The video shows a person preparing ingredients for a dish. The first frame shows a hand using a knife to finely chop a white onion on a wooden cutting board. The next frame transitions to the person chopping green celery stalks into small, uniform pieces. The celery is cut into thin, rectangular strips and then diced into smaller pieces. The final frame shows a hand holding a small glass jar labeled \"Cucumber pickle\" (오이피클 in Korean), which contains pickled cucumber slices. The video appears to be a cooking tutorial, focusing on the preparation of ingredients, with text labels in Korean and English providing context for the items being used.'"
      ]
     },
     "execution_count": 12,
     "metadata": {},
     "output_type": "execute_result"
    }
   ],
   "source": [
    "generate_scene_caption(use_frames=True, batch_size=56, max_frames=99, prompt = \"Describe the video.\")"
   ]
  },
  {
   "cell_type": "code",
   "execution_count": 8,
   "metadata": {},
   "outputs": [
    {
     "name": "stderr",
     "output_type": "stream",
     "text": [
      "qwen-vl-utils using decord to read video.\n"
     ]
    },
    {
     "name": "stdout",
     "output_type": "stream",
     "text": [
      "Total processing time: 34.58 seconds\n"
     ]
    },
    {
     "data": {
      "text/plain": [
       "'The video showcases a step-by-step process of preparing ingredients for a dish. It begins with a close-up of a hand placing a whole tomato on a wooden cutting board. The tomato is then sliced into thick rounds, with the text \"Tomato | 토마토\" appearing on the screen. The person proceeds to cut the tomato slices into smaller, even pieces, as indicated by the text \"토마토를 1cm 두께로 잘라준다\" (Cut the tomato into 1cm thick slices). Next, an onion is shown, and the person finely chops it, with the text \"Onion | 양파\" and \"양파를 다져준다\" (Chop the onion) appearing on the screen. Following this, the person slices and finely chops celery, with the text \"Celery | 셀러리(오이가능)\" and \"잘게 다져준다\" (Chop finely) displayed. Finally, a jar of cucumber pickle is shown, with the text \"Cucumber pickle | 오이피클\" appearing on the screen. The video focuses on the detailed preparation of these ingredients, emphasizing the precision and care taken in each step.'"
      ]
     },
     "execution_count": 8,
     "metadata": {},
     "output_type": "execute_result"
    }
   ],
   "source": [
    "generate_scene_caption(use_frames=False, max_frames=32, prompt = \"Describe the video.\")"
   ]
  },
  {
   "cell_type": "code",
   "execution_count": 10,
   "metadata": {},
   "outputs": [
    {
     "name": "stdout",
     "output_type": "stream",
     "text": [
      "Total processing time: 35.48 seconds\n"
     ]
    },
    {
     "data": {
      "text/plain": [
       "'The video showcases a step-by-step process of preparing ingredients for a dish. It begins with a close-up of a hand placing a whole tomato on a wooden cutting board. The tomato is then sliced into thick rounds, with the text \"Tomato | 토마토\" appearing on the screen. The person proceeds to cut the tomato slices into smaller, even pieces, as indicated by the text \"토마토를 1cm 두께로 잘라준다\" (Cut the tomato into 1cm thick slices). Next, an onion is shown, and the person finely chops it, with the text \"Onion | 양파\" and \"양파를 다져준다\" (Chop the onion) appearing on the screen. Following this, the person slices and finely chops celery, with the text \"Celery | 셀러리(오이가능)\" and \"잘게 다져준다\" (Chop finely) displayed. Finally, a jar of cucumber pickle is shown, with the text \"Cucumber pickle | 오이피클\" appearing on the screen. The video focuses on the detailed preparation of these ingredients, emphasizing the precision and care taken in each step.'"
      ]
     },
     "execution_count": 10,
     "metadata": {},
     "output_type": "execute_result"
    }
   ],
   "source": [
    "generate_scene_caption(use_frames=False, max_frames=56, prompt = \"Describe the video.\")"
   ]
  },
  {
   "cell_type": "code",
   "execution_count": 14,
   "metadata": {},
   "outputs": [
    {
     "name": "stdout",
     "output_type": "stream",
     "text": [
      "Processing 32 frames from 99 total frames\n",
      "Processing in 1 batches of max size 32\n",
      "Completed batch 1/1\n",
      "Total processing time: 21.42 seconds\n"
     ]
    },
    {
     "data": {
      "text/plain": [
       "'Tomato sliced. Onion chopped. Celery diced. Cucumber pickle added.'"
      ]
     },
     "execution_count": 14,
     "metadata": {},
     "output_type": "execute_result"
    }
   ],
   "source": [
    "generate_scene_caption(use_frames=True, max_frames=32, prompt = \"Describe the video with rich context using the fewest syllables possible.\")"
   ]
  },
  {
   "cell_type": "code",
   "execution_count": 15,
   "metadata": {},
   "outputs": [
    {
     "name": "stdout",
     "output_type": "stream",
     "text": [
      "Processing 56 frames from 99 total frames\n",
      "Processing in 1 batches of max size 56\n",
      "Completed batch 1/1\n",
      "Total processing time: 30.84 seconds\n"
     ]
    },
    {
     "data": {
      "text/plain": [
       "'Cut tomato, onion, celery, cucumber pickle.'"
      ]
     },
     "execution_count": 15,
     "metadata": {},
     "output_type": "execute_result"
    }
   ],
   "source": [
    "generate_scene_caption(use_frames=True, batch_size=56,max_frames=56, prompt = \"Describe the video with rich context using the fewest syllables possible.\")"
   ]
  },
  {
   "cell_type": "code",
   "execution_count": 16,
   "metadata": {},
   "outputs": [
    {
     "name": "stdout",
     "output_type": "stream",
     "text": [
      "Processing 99 frames from 99 total frames\n",
      "Processing in 2 batches of max size 56\n",
      "Completed batch 1/2\n",
      "Completed batch 2/2\n",
      "Total processing time: 48.94 seconds\n"
     ]
    },
    {
     "data": {
      "text/plain": [
       "'Tomato sliced. Onion chopped. Cut onion. Chop celery. Open cucumber pickle jar.'"
      ]
     },
     "execution_count": 16,
     "metadata": {},
     "output_type": "execute_result"
    }
   ],
   "source": [
    "generate_scene_caption(use_frames=True, batch_size=56,max_frames=99, prompt = \"Describe the video with rich context using the fewest syllables possible.\")"
   ]
  },
  {
   "cell_type": "code",
   "execution_count": 17,
   "metadata": {},
   "outputs": [
    {
     "name": "stdout",
     "output_type": "stream",
     "text": [
      "Processing 99 frames from 99 total frames\n",
      "Processing in 4 batches of max size 32\n",
      "Completed batch 1/4\n",
      "Completed batch 2/4\n",
      "Completed batch 3/4\n",
      "Completed batch 4/4\n",
      "Total processing time: 32.62 seconds\n"
     ]
    },
    {
     "data": {
      "text/plain": [
       "'Tomato sliced. Tomatoes sliced. Onion chopped. Celery placed. Cutting celery into small pieces. Hand pours pickled cucumbers onto cutting board.'"
      ]
     },
     "execution_count": 17,
     "metadata": {},
     "output_type": "execute_result"
    }
   ],
   "source": [
    "generate_scene_caption(use_frames=True, batch_size=32,max_frames=99, prompt = \"Describe the video with rich context using the fewest syllables possible.\")"
   ]
  },
  {
   "cell_type": "code",
   "execution_count": 18,
   "metadata": {},
   "outputs": [
    {
     "name": "stdout",
     "output_type": "stream",
     "text": [
      "Total processing time: 34.35 seconds\n"
     ]
    },
    {
     "data": {
      "text/plain": [
       "'Cut tomato, onion, celery, cucumber pickle.'"
      ]
     },
     "execution_count": 18,
     "metadata": {},
     "output_type": "execute_result"
    }
   ],
   "source": [
    "generate_scene_caption(use_frames=False, max_frames=32, prompt = \"Describe the video with rich context using the fewest syllables possible.\")"
   ]
  },
  {
   "cell_type": "code",
   "execution_count": 19,
   "metadata": {},
   "outputs": [
    {
     "name": "stdout",
     "output_type": "stream",
     "text": [
      "Total processing time: 27.74 seconds\n"
     ]
    },
    {
     "data": {
      "text/plain": [
       "'Cut tomato, onion, celery, cucumber pickle.'"
      ]
     },
     "execution_count": 19,
     "metadata": {},
     "output_type": "execute_result"
    }
   ],
   "source": [
    "generate_scene_caption(use_frames=False, max_frames=56, prompt = \"Describe the video with rich context using the fewest syllables possible.\")"
   ]
  }
 ],
 "metadata": {
  "kernelspec": {
   "display_name": "CS7980_YouDescribe",
   "language": "python",
   "name": "python3"
  },
  "language_info": {
   "codemirror_mode": {
    "name": "ipython",
    "version": 3
   },
   "file_extension": ".py",
   "mimetype": "text/x-python",
   "name": "python",
   "nbconvert_exporter": "python",
   "pygments_lexer": "ipython3",
   "version": "3.9.18"
  }
 },
 "nbformat": 4,
 "nbformat_minor": 2
}
