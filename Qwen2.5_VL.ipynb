{
 "cells": [
  {
   "cell_type": "code",
   "execution_count": 1,
   "metadata": {},
   "outputs": [
    {
     "name": "stdout",
     "output_type": "stream",
     "text": [
      "Collecting git+https://github.com/huggingface/transformers\n",
      "  Cloning https://github.com/huggingface/transformers to /tmp/pip-req-build-hdfetzgu\n",
      "  Running command git clone --filter=blob:none --quiet https://github.com/huggingface/transformers /tmp/pip-req-build-hdfetzgu\n",
      "  Resolved https://github.com/huggingface/transformers to commit 62db3e6ed67a74cc1ed1436acd9973915c0a4475\n",
      "  Installing build dependencies ... \u001b[?25ldone\n",
      "\u001b[?25h  Getting requirements to build wheel ... \u001b[?25ldone\n",
      "\u001b[?25h  Preparing metadata (pyproject.toml) ... \u001b[?25ldone\n",
      "\u001b[?25hRequirement already satisfied: accelerate in /home/do.ng/.conda/envs/CS7980_YouDescribe/lib/python3.9/site-packages (1.3.0)\n",
      "Requirement already satisfied: filelock in /home/do.ng/.conda/envs/CS7980_YouDescribe/lib/python3.9/site-packages (from transformers==4.49.0.dev0) (3.17.0)\n",
      "Requirement already satisfied: huggingface-hub<1.0,>=0.24.0 in /home/do.ng/.conda/envs/CS7980_YouDescribe/lib/python3.9/site-packages (from transformers==4.49.0.dev0) (0.27.1)\n",
      "Requirement already satisfied: numpy>=1.17 in /home/do.ng/.conda/envs/CS7980_YouDescribe/lib/python3.9/site-packages (from transformers==4.49.0.dev0) (2.0.2)\n",
      "Requirement already satisfied: packaging>=20.0 in /home/do.ng/.conda/envs/CS7980_YouDescribe/lib/python3.9/site-packages (from transformers==4.49.0.dev0) (24.2)\n",
      "Requirement already satisfied: pyyaml>=5.1 in /home/do.ng/.conda/envs/CS7980_YouDescribe/lib/python3.9/site-packages (from transformers==4.49.0.dev0) (6.0.2)\n",
      "Requirement already satisfied: regex!=2019.12.17 in /home/do.ng/.conda/envs/CS7980_YouDescribe/lib/python3.9/site-packages (from transformers==4.49.0.dev0) (2024.11.6)\n",
      "Requirement already satisfied: requests in /home/do.ng/.conda/envs/CS7980_YouDescribe/lib/python3.9/site-packages (from transformers==4.49.0.dev0) (2.32.3)\n",
      "Collecting tokenizers<0.22,>=0.21 (from transformers==4.49.0.dev0)\n",
      "  Using cached tokenizers-0.21.0-cp39-abi3-manylinux_2_17_x86_64.manylinux2014_x86_64.whl.metadata (6.7 kB)\n",
      "Requirement already satisfied: safetensors>=0.4.1 in /home/do.ng/.conda/envs/CS7980_YouDescribe/lib/python3.9/site-packages (from transformers==4.49.0.dev0) (0.5.2)\n",
      "Requirement already satisfied: tqdm>=4.27 in /home/do.ng/.conda/envs/CS7980_YouDescribe/lib/python3.9/site-packages (from transformers==4.49.0.dev0) (4.67.1)\n",
      "Requirement already satisfied: psutil in /home/do.ng/.conda/envs/CS7980_YouDescribe/lib/python3.9/site-packages (from accelerate) (5.9.0)\n",
      "Requirement already satisfied: torch>=2.0.0 in /home/do.ng/.conda/envs/CS7980_YouDescribe/lib/python3.9/site-packages (from accelerate) (2.5.1)\n",
      "Requirement already satisfied: fsspec>=2023.5.0 in /home/do.ng/.conda/envs/CS7980_YouDescribe/lib/python3.9/site-packages (from huggingface-hub<1.0,>=0.24.0->transformers==4.49.0.dev0) (2024.12.0)\n",
      "Requirement already satisfied: typing-extensions>=3.7.4.3 in /home/do.ng/.conda/envs/CS7980_YouDescribe/lib/python3.9/site-packages (from huggingface-hub<1.0,>=0.24.0->transformers==4.49.0.dev0) (4.12.2)\n",
      "Requirement already satisfied: networkx in /home/do.ng/.conda/envs/CS7980_YouDescribe/lib/python3.9/site-packages (from torch>=2.0.0->accelerate) (3.2.1)\n",
      "Requirement already satisfied: jinja2 in /home/do.ng/.conda/envs/CS7980_YouDescribe/lib/python3.9/site-packages (from torch>=2.0.0->accelerate) (3.1.5)\n",
      "Requirement already satisfied: nvidia-cuda-nvrtc-cu12==12.4.127 in /home/do.ng/.conda/envs/CS7980_YouDescribe/lib/python3.9/site-packages (from torch>=2.0.0->accelerate) (12.4.127)\n",
      "Requirement already satisfied: nvidia-cuda-runtime-cu12==12.4.127 in /home/do.ng/.conda/envs/CS7980_YouDescribe/lib/python3.9/site-packages (from torch>=2.0.0->accelerate) (12.4.127)\n",
      "Requirement already satisfied: nvidia-cuda-cupti-cu12==12.4.127 in /home/do.ng/.conda/envs/CS7980_YouDescribe/lib/python3.9/site-packages (from torch>=2.0.0->accelerate) (12.4.127)\n",
      "Requirement already satisfied: nvidia-cudnn-cu12==9.1.0.70 in /home/do.ng/.conda/envs/CS7980_YouDescribe/lib/python3.9/site-packages (from torch>=2.0.0->accelerate) (9.1.0.70)\n",
      "Requirement already satisfied: nvidia-cublas-cu12==12.4.5.8 in /home/do.ng/.conda/envs/CS7980_YouDescribe/lib/python3.9/site-packages (from torch>=2.0.0->accelerate) (12.4.5.8)\n",
      "Requirement already satisfied: nvidia-cufft-cu12==11.2.1.3 in /home/do.ng/.conda/envs/CS7980_YouDescribe/lib/python3.9/site-packages (from torch>=2.0.0->accelerate) (11.2.1.3)\n",
      "Requirement already satisfied: nvidia-curand-cu12==10.3.5.147 in /home/do.ng/.conda/envs/CS7980_YouDescribe/lib/python3.9/site-packages (from torch>=2.0.0->accelerate) (10.3.5.147)\n",
      "Requirement already satisfied: nvidia-cusolver-cu12==11.6.1.9 in /home/do.ng/.conda/envs/CS7980_YouDescribe/lib/python3.9/site-packages (from torch>=2.0.0->accelerate) (11.6.1.9)\n",
      "Requirement already satisfied: nvidia-cusparse-cu12==12.3.1.170 in /home/do.ng/.conda/envs/CS7980_YouDescribe/lib/python3.9/site-packages (from torch>=2.0.0->accelerate) (12.3.1.170)\n",
      "Requirement already satisfied: nvidia-nccl-cu12==2.21.5 in /home/do.ng/.conda/envs/CS7980_YouDescribe/lib/python3.9/site-packages (from torch>=2.0.0->accelerate) (2.21.5)\n",
      "Requirement already satisfied: nvidia-nvtx-cu12==12.4.127 in /home/do.ng/.conda/envs/CS7980_YouDescribe/lib/python3.9/site-packages (from torch>=2.0.0->accelerate) (12.4.127)\n",
      "Requirement already satisfied: nvidia-nvjitlink-cu12==12.4.127 in /home/do.ng/.conda/envs/CS7980_YouDescribe/lib/python3.9/site-packages (from torch>=2.0.0->accelerate) (12.4.127)\n",
      "Requirement already satisfied: triton==3.1.0 in /home/do.ng/.conda/envs/CS7980_YouDescribe/lib/python3.9/site-packages (from torch>=2.0.0->accelerate) (3.1.0)\n",
      "Requirement already satisfied: sympy==1.13.1 in /home/do.ng/.conda/envs/CS7980_YouDescribe/lib/python3.9/site-packages (from torch>=2.0.0->accelerate) (1.13.1)\n",
      "Requirement already satisfied: mpmath<1.4,>=1.1.0 in /home/do.ng/.conda/envs/CS7980_YouDescribe/lib/python3.9/site-packages (from sympy==1.13.1->torch>=2.0.0->accelerate) (1.3.0)\n",
      "Requirement already satisfied: charset-normalizer<4,>=2 in /home/do.ng/.conda/envs/CS7980_YouDescribe/lib/python3.9/site-packages (from requests->transformers==4.49.0.dev0) (3.4.1)\n",
      "Requirement already satisfied: idna<4,>=2.5 in /home/do.ng/.conda/envs/CS7980_YouDescribe/lib/python3.9/site-packages (from requests->transformers==4.49.0.dev0) (3.10)\n",
      "Requirement already satisfied: urllib3<3,>=1.21.1 in /home/do.ng/.conda/envs/CS7980_YouDescribe/lib/python3.9/site-packages (from requests->transformers==4.49.0.dev0) (2.3.0)\n",
      "Requirement already satisfied: certifi>=2017.4.17 in /home/do.ng/.conda/envs/CS7980_YouDescribe/lib/python3.9/site-packages (from requests->transformers==4.49.0.dev0) (2024.12.14)\n",
      "Requirement already satisfied: MarkupSafe>=2.0 in /home/do.ng/.conda/envs/CS7980_YouDescribe/lib/python3.9/site-packages (from jinja2->torch>=2.0.0->accelerate) (3.0.2)\n",
      "Using cached tokenizers-0.21.0-cp39-abi3-manylinux_2_17_x86_64.manylinux2014_x86_64.whl (3.0 MB)\n",
      "Building wheels for collected packages: transformers\n",
      "  Building wheel for transformers (pyproject.toml) ... \u001b[?25ldone\n",
      "\u001b[?25h  Created wheel for transformers: filename=transformers-4.49.0.dev0-py3-none-any.whl size=10627237 sha256=07def7f3cd52ae9c9f11a57abb49b25c3483adc9cb0336f6e4977db39bfe65cd\n",
      "  Stored in directory: /tmp/pip-ephem-wheel-cache-qz6k5th0/wheels/14/a0/7b/8f6b25ba4110aa215fcb8d6aedd6cd4f9b9b6619190999ac2b\n",
      "Successfully built transformers\n",
      "Installing collected packages: tokenizers, transformers\n",
      "  Attempting uninstall: tokenizers\n",
      "    Found existing installation: tokenizers 0.19.1\n",
      "    Uninstalling tokenizers-0.19.1:\n",
      "      Successfully uninstalled tokenizers-0.19.1\n",
      "  Attempting uninstall: transformers\n",
      "    Found existing installation: transformers 4.45.0.dev0\n",
      "    Uninstalling transformers-4.45.0.dev0:\n",
      "      Successfully uninstalled transformers-4.45.0.dev0\n",
      "Successfully installed tokenizers-0.21.0 transformers-4.49.0.dev0\n",
      "Note: you may need to restart the kernel to use updated packages.\n"
     ]
    }
   ],
   "source": [
    "pip install git+https://github.com/huggingface/transformers accelerate"
   ]
  },
  {
   "cell_type": "code",
   "execution_count": 2,
   "metadata": {},
   "outputs": [
    {
     "name": "stdout",
     "output_type": "stream",
     "text": [
      "Requirement already satisfied: qwen-vl-utils==0.0.8 in /home/do.ng/.conda/envs/CS7980_YouDescribe/lib/python3.9/site-packages (from qwen-vl-utils[decord]==0.0.8) (0.0.8)\n",
      "Requirement already satisfied: av in /home/do.ng/.conda/envs/CS7980_YouDescribe/lib/python3.9/site-packages (from qwen-vl-utils==0.0.8->qwen-vl-utils[decord]==0.0.8) (14.0.1)\n",
      "Requirement already satisfied: packaging in /home/do.ng/.conda/envs/CS7980_YouDescribe/lib/python3.9/site-packages (from qwen-vl-utils==0.0.8->qwen-vl-utils[decord]==0.0.8) (24.2)\n",
      "Requirement already satisfied: pillow in /home/do.ng/.conda/envs/CS7980_YouDescribe/lib/python3.9/site-packages (from qwen-vl-utils==0.0.8->qwen-vl-utils[decord]==0.0.8) (11.1.0)\n",
      "Requirement already satisfied: requests in /home/do.ng/.conda/envs/CS7980_YouDescribe/lib/python3.9/site-packages (from qwen-vl-utils==0.0.8->qwen-vl-utils[decord]==0.0.8) (2.32.3)\n",
      "Collecting decord (from qwen-vl-utils[decord]==0.0.8)\n",
      "  Downloading decord-0.6.0-py3-none-manylinux2010_x86_64.whl.metadata (422 bytes)\n",
      "Requirement already satisfied: numpy>=1.14.0 in /home/do.ng/.conda/envs/CS7980_YouDescribe/lib/python3.9/site-packages (from decord->qwen-vl-utils[decord]==0.0.8) (2.0.2)\n",
      "Requirement already satisfied: charset-normalizer<4,>=2 in /home/do.ng/.conda/envs/CS7980_YouDescribe/lib/python3.9/site-packages (from requests->qwen-vl-utils==0.0.8->qwen-vl-utils[decord]==0.0.8) (3.4.1)\n",
      "Requirement already satisfied: idna<4,>=2.5 in /home/do.ng/.conda/envs/CS7980_YouDescribe/lib/python3.9/site-packages (from requests->qwen-vl-utils==0.0.8->qwen-vl-utils[decord]==0.0.8) (3.10)\n",
      "Requirement already satisfied: urllib3<3,>=1.21.1 in /home/do.ng/.conda/envs/CS7980_YouDescribe/lib/python3.9/site-packages (from requests->qwen-vl-utils==0.0.8->qwen-vl-utils[decord]==0.0.8) (2.3.0)\n",
      "Requirement already satisfied: certifi>=2017.4.17 in /home/do.ng/.conda/envs/CS7980_YouDescribe/lib/python3.9/site-packages (from requests->qwen-vl-utils==0.0.8->qwen-vl-utils[decord]==0.0.8) (2024.12.14)\n",
      "Downloading decord-0.6.0-py3-none-manylinux2010_x86_64.whl (13.6 MB)\n",
      "\u001b[2K   \u001b[90m━━━━━━━━━━━━━━━━━━━━━━━━━━━━━━━━━━━━━━━━\u001b[0m \u001b[32m13.6/13.6 MB\u001b[0m \u001b[31m68.5 MB/s\u001b[0m eta \u001b[36m0:00:00\u001b[0m:00:01\u001b[0m\n",
      "\u001b[?25hInstalling collected packages: decord\n",
      "Successfully installed decord-0.6.0\n",
      "Note: you may need to restart the kernel to use updated packages.\n"
     ]
    }
   ],
   "source": [
    "pip install qwen-vl-utils[decord]==0.0.8"
   ]
  },
  {
   "cell_type": "code",
   "execution_count": 1,
   "metadata": {},
   "outputs": [
    {
     "name": "stdout",
     "output_type": "stream",
     "text": [
      "Fri Jan 31 19:58:27 2025       \n",
      "+---------------------------------------------------------------------------------------+\n",
      "| NVIDIA-SMI 545.23.08              Driver Version: 545.23.08    CUDA Version: 12.3     |\n",
      "|-----------------------------------------+----------------------+----------------------+\n",
      "| GPU  Name                 Persistence-M | Bus-Id        Disp.A | Volatile Uncorr. ECC |\n",
      "| Fan  Temp   Perf          Pwr:Usage/Cap |         Memory-Usage | GPU-Util  Compute M. |\n",
      "|                                         |                      |               MIG M. |\n",
      "|=========================================+======================+======================|\n",
      "|   0  NVIDIA A100-SXM4-40GB          On  | 00000000:01:00.0 Off |                    0 |\n",
      "| N/A   32C    P0              51W / 400W |      4MiB / 40960MiB |      0%      Default |\n",
      "|                                         |                      |             Disabled |\n",
      "+-----------------------------------------+----------------------+----------------------+\n",
      "|   1  NVIDIA A100-SXM4-40GB          On  | 00000000:81:00.0 Off |                    0 |\n",
      "| N/A   33C    P0              74W / 400W |      4MiB / 40960MiB |      0%      Default |\n",
      "|                                         |                      |             Disabled |\n",
      "+-----------------------------------------+----------------------+----------------------+\n",
      "                                                                                         \n",
      "+---------------------------------------------------------------------------------------+\n",
      "| Processes:                                                                            |\n",
      "|  GPU   GI   CI        PID   Type   Process name                            GPU Memory |\n",
      "|        ID   ID                                                             Usage      |\n",
      "|=======================================================================================|\n",
      "|  No running processes found                                                           |\n",
      "+---------------------------------------------------------------------------------------+\n"
     ]
    }
   ],
   "source": [
    "!nvidia-smi"
   ]
  },
  {
   "cell_type": "code",
   "execution_count": 2,
   "metadata": {},
   "outputs": [
    {
     "name": "stderr",
     "output_type": "stream",
     "text": [
      "/home/do.ng/.conda/envs/CS7980_YouDescribe/lib/python3.9/site-packages/tqdm/auto.py:21: TqdmWarning: IProgress not found. Please update jupyter and ipywidgets. See https://ipywidgets.readthedocs.io/en/stable/user_install.html\n",
      "  from .autonotebook import tqdm as notebook_tqdm\n"
     ]
    }
   ],
   "source": [
    "import torchvision\n",
    "import transformers\n",
    "import torch"
   ]
  },
  {
   "cell_type": "code",
   "execution_count": 3,
   "metadata": {},
   "outputs": [
    {
     "name": "stderr",
     "output_type": "stream",
     "text": [
      "Loading checkpoint shards: 100%|██████████| 5/5 [00:17<00:00,  3.41s/it]\n"
     ]
    }
   ],
   "source": [
    "from transformers import Qwen2_5_VLForConditionalGeneration, AutoTokenizer, AutoProcessor, GenerationConfig\n",
    "from qwen_vl_utils import process_vision_info\n",
    "\n",
    "model = Qwen2_5_VLForConditionalGeneration.from_pretrained(\n",
    "    \"Qwen/Qwen2.5-VL-7B-Instruct\", torch_dtype=\"auto\", device_map=\"auto\"\n",
    ")\n",
    "processor = AutoProcessor.from_pretrained(\"Qwen/Qwen2.5-VL-7B-Instruct\")"
   ]
  },
  {
   "cell_type": "code",
   "execution_count": 16,
   "metadata": {},
   "outputs": [],
   "source": [
    "def generate_scene_caption(scene_data, previous_caption=None):\n",
    "    torch.cuda.empty_cache()\n",
    "\n",
    "    video_length = scene_data.get(\"duration\")\n",
    "    fps = 1.0\n",
    "    max_frames_value = min(32, int(video_length * fps))\n",
    "\n",
    "    previous_context = \"\"\n",
    "    if previous_caption:\n",
    "        previous_context = f\"Previously described:\\n{previous_caption}\\n\\n\" \\\n",
    "                           \"Do not repeat the same information.\\n\"\n",
    "\n",
    "    if scene_data.get(\"captions\"):\n",
    "        captions_text = \"\\n\".join([f\"- {caption}\" for caption in scene_data[\"captions\"]])\n",
    "        scene_context = f\"Scene {scene_data['scene_number']} captions:\\n{captions_text}\\n\"\n",
    "    else:\n",
    "        scene_context = \"\" \n",
    "\n",
    "    base_prompt = \"Describe the video. Keep it concise and do not repeat information from previous scene.\"\n",
    "\n",
    "    enhanced_prompt = (\n",
    "        f\"{previous_context}\"\n",
    "        f\"{scene_context}\\n\"\n",
    "        f\"{base_prompt}\\n\"\n",
    "    )\n",
    "    \n",
    "\n",
    "    messages = [\n",
    "        {\n",
    "            \"role\": \"user\",\n",
    "            \"content\": [\n",
    "                {\n",
    "                    \"type\": \"video\",\n",
    "                    \"video\": scene_data['video_path'],\n",
    "                    \"max_pixels\": 320 * 240,\n",
    "                    \"fps\": fps,\n",
    "                    \"max_frames\": max_frames_value,\n",
    "                },\n",
    "                {\"type\": \"text\", \"text\": enhanced_prompt},\n",
    "            ],\n",
    "        }\n",
    "    ]\n",
    "\n",
    "    print(f\"Processing Scene {scene_data['scene_number']} with max_frames={max_frames_value}\")\n",
    "\n",
    "    dtype = torch.bfloat16\n",
    "\n",
    "    with torch.amp.autocast('cuda', dtype=dtype):\n",
    "        text = processor.apply_chat_template(\n",
    "            messages, tokenize=False, add_generation_prompt=True\n",
    "        )\n",
    "        image_inputs, video_inputs = process_vision_info(messages)\n",
    "        inputs = processor(\n",
    "            text=[text],\n",
    "            images=image_inputs,\n",
    "            videos=video_inputs,\n",
    "            padding=True,\n",
    "            return_tensors=\"pt\",\n",
    "        )\n",
    "\n",
    "        inputs = inputs.to(\"cuda\", dtype=dtype)\n",
    "        input_length = inputs.input_ids.shape[1]\n",
    "\n",
    "        with torch.no_grad():\n",
    "            generation_config = GenerationConfig(\n",
    "                max_new_tokens=128,\n",
    "                do_sample=False,\n",
    "                num_beams=1\n",
    "            )\n",
    "\n",
    "            generated_ids = model.generate(\n",
    "                **inputs,\n",
    "                generation_config=generation_config\n",
    "            )\n",
    "\n",
    "        generated_ids_trimmed = generated_ids[:, input_length:]\n",
    "        output_list = processor.batch_decode(\n",
    "            generated_ids_trimmed,\n",
    "            skip_special_tokens=True,\n",
    "            clean_up_tokenization_spaces=False\n",
    "        )\n",
    "\n",
    "    del inputs, generated_ids, generated_ids_trimmed\n",
    "    torch.cuda.empty_cache()\n",
    "    output_text = ''.join(output_list)\n",
    "    if output_text:\n",
    "         clean_text = output_text.split(\"addCriterion\")[0].strip()\n",
    "    return clean_text if output_text else output_text\n"
   ]
  },
  {
   "cell_type": "code",
   "execution_count": 17,
   "metadata": {},
   "outputs": [],
   "source": [
    "import os\n",
    "import json\n",
    "\n",
    "def process_all_scenes(scene_folder):\n",
    "    scenes_json_path = os.path.join(scene_folder, \"scene_info.json\")\n",
    "    if not os.path.exists(scenes_json_path):\n",
    "        print(f\"Error: scene_info.json not found in {scene_folder}\")\n",
    "        return\n",
    "\n",
    "    with open(scenes_json_path, \"r\") as f:\n",
    "        scene_list = json.load(f)\n",
    "\n",
    "    print(f\"Processing {len(scene_list)} scenes in {scene_folder}...\")\n",
    "\n",
    "    captions = []\n",
    "    previous_caption = None\n",
    "\n",
    "    for idx, scene_data in enumerate(scene_list, start=1):\n",
    "        scene_caption = generate_scene_caption(scene_data, previous_caption=previous_caption)\n",
    "        captions.append(scene_caption)\n",
    "        previous_caption = scene_caption\n",
    "\n",
    "    # Merge captions\n",
    "    final_caption_text = \"\\n\".join(\n",
    "        [f\"Scene {i+1}: {desc}\" for i, desc in enumerate(captions)]\n",
    "    )\n",
    "\n",
    "    # Save captions to a text file\n",
    "    caption_output_path = os.path.join(scene_folder, \"final_captions.txt\")\n",
    "    with open(caption_output_path, \"w\") as f:\n",
    "        f.write(final_caption_text)\n",
    "\n",
    "    print(f\"\\nCaptioning complete! Final captions saved to: {caption_output_path}\")\n",
    "    return final_caption_text\n"
   ]
  },
  {
   "cell_type": "code",
   "execution_count": 18,
   "metadata": {},
   "outputs": [
    {
     "name": "stdout",
     "output_type": "stream",
     "text": [
      "Processing 14 scenes in videos/rlOywSJnPOU/rlOywSJnPOU_scenes...\n",
      "Processing Scene 1 with max_frames=15\n",
      "Processing Scene 2 with max_frames=32\n",
      "Processing Scene 3 with max_frames=6\n",
      "Processing Scene 4 with max_frames=32\n",
      "Processing Scene 5 with max_frames=6\n",
      "Processing Scene 6 with max_frames=9\n",
      "Processing Scene 7 with max_frames=6\n",
      "Processing Scene 8 with max_frames=13\n",
      "Processing Scene 9 with max_frames=10\n",
      "Processing Scene 10 with max_frames=14\n",
      "Processing Scene 11 with max_frames=5\n",
      "Processing Scene 12 with max_frames=6\n",
      "Processing Scene 13 with max_frames=22\n",
      "Processing Scene 14 with max_frames=32\n",
      "\n",
      "Captioning complete! Final captions saved to: videos/rlOywSJnPOU/rlOywSJnPOU_scenes/final_captions.txt\n"
     ]
    },
    {
     "data": {
      "text/plain": [
       "\"Scene 1: The video showcases a Tuna Melt Sandwich, a classic grilled sandwich with melted cheese, tuna, and vegetables. The sandwich is cut in half and stacked on a wooden cutting board. A hand picks up one half, revealing the gooey, melted cheese and the layers of tuna and vegetables inside. The sandwich is then placed back on the board, emphasizing its appetizing appearance.\\nScene 2: The video demonstrates the preparation of ingredients for a sandwich. A hand is shown slicing a tomato into 1cm thick slices on a wooden cutting board. Next, the onion is finely chopped. Celery is also chopped finely, with an option to use cucumber instead. Finally, a jar of cucumber pickles is opened, showcasing the ingredients that will be used in the sandwich.\\nScene 3: The video continues the preparation of sandwich ingredients. A hand is shown chopping a green vegetable, likely celery, into small pieces on a wooden cutting board. The caption suggests the person is continuing to chop despite feeling bored.\\nScene 4: The video shows the preparation of a tuna-based dish. A can of tuna is opened, and the contents are poured into a bowl. Ingredients such as chopped onion, pickles, celery, mayonnaise, crushed red pepper, lemon juice, and black pepper are added to the bowl. The ingredients are mixed together thoroughly.\\nScene 5: The video shows a close-up of a bowl containing a mixture of tuna and various ingredients, being stirred with a whisk. The scene then transitions to a wooden cutting board where two slices of white bread are placed, ready for use in the preparation of a dish.\\nScene 6: The video shows a close-up of a white bowl containing melted butter, which is being stirred with a whisk. The scene then transitions to a wooden cutting board where two slices of white bread are placed. A hand uses a fork to spread the melted butter evenly on one side of each bread slice.\\nScene 7: The video shows a close-up of a white bowl containing melted butter, which is being stirred with a whisk. The scene then transitions to a wooden cutting board where two slices of white bread are placed. A hand uses a fork to spread the melted butter evenly on one side of each bread slice.\\nScene 8: The video shows two slices of white bread with melted butter spread on one side. A hand places the buttered side down into a hot pan, and the bread is flipped to check the back for doneness.\\nScene 9: The video shows two slices of white bread with melted butter spread on one side. The bread is placed buttered side down into a hot pan. The bread is flipped to check the back for doneness.\\nScene 10: The video shows a close-up of two slices of white bread with melted cheddar cheese on one side. A hand spreads a tuna sauce mixture, which includes tuna, vegetables, and spices, evenly across the bread. The text on the screen indicates the ingredients used: 2 pieces of cheddar cheese and 2 tablespoons of tuna sauce. The caption suggests spreading the sauce flat like a blanket and preparing the dish for serving.\\nScene 11: The video shows a close-up of two slices of white bread with melted cheddar cheese on one side. A hand places two slices of tomato on top of the tuna sauce mixture spread on the other slice of bread. The text on the screen indicates the addition of 2 pieces of tomato.\\nScene 12: The video shows a close-up of a slice of white bread with melted cheddar cheese on one side. A hand places another slice of white bread on top, covering the cheese. The text on the screen indicates the action of covering the cheese bread.\\nScene 13: The video shows a close-up of a grilled sandwich being cut in half on a wooden cutting board. The sandwich is made with toasted bread, melted cheese, and slices of tomato and possibly other fillings. The person cutting the sandwich reveals the layers inside, showcasing the melted cheese and other ingredients. The text on the screen suggests a desire to see the sandwich even if it's already visible.\\nScene 14: The video continues to focus on the grilled sandwich, now being held and examined by a hand. The sandwich is cut in half, revealing its layers of melted cheese, tomato slices, and other fillings. The hand lifts one half, showcasing the gooey cheese and the texture of the bread. The text on the screen expresses enjoyment and a desire to continue eating, emphasizing the deliciousness of the sandwich.\""
      ]
     },
     "execution_count": 18,
     "metadata": {},
     "output_type": "execute_result"
    }
   ],
   "source": [
    "process_all_scenes(\"videos/rlOywSJnPOU/rlOywSJnPOU_scenes\")"
   ]
  }
 ],
 "metadata": {
  "kernelspec": {
   "display_name": "CS7980_YouDescribe",
   "language": "python",
   "name": "python3"
  },
  "language_info": {
   "codemirror_mode": {
    "name": "ipython",
    "version": 3
   },
   "file_extension": ".py",
   "mimetype": "text/x-python",
   "name": "python",
   "nbconvert_exporter": "python",
   "pygments_lexer": "ipython3",
   "version": "3.9.18"
  }
 },
 "nbformat": 4,
 "nbformat_minor": 2
}
