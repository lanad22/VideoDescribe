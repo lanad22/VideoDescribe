{
 "cells": [
  {
   "cell_type": "code",
   "execution_count": 1,
   "metadata": {},
   "outputs": [
    {
     "name": "stderr",
     "output_type": "stream",
     "text": [
      "/home/do.ng/.conda/envs/CS7980_YouDescribe/lib/python3.9/site-packages/tqdm/auto.py:21: TqdmWarning: IProgress not found. Please update jupyter and ipywidgets. See https://ipywidgets.readthedocs.io/en/stable/user_install.html\n",
      "  from .autonotebook import tqdm as notebook_tqdm\n"
     ]
    }
   ],
   "source": [
    "import torchvision\n",
    "import transformers\n",
    "import torch"
   ]
  },
  {
   "cell_type": "code",
   "execution_count": 2,
   "metadata": {},
   "outputs": [
    {
     "name": "stderr",
     "output_type": "stream",
     "text": [
      "Loading checkpoint shards: 100%|██████████| 5/5 [00:05<00:00,  1.05s/it]\n"
     ]
    }
   ],
   "source": [
    "from transformers import Qwen2_5_VLForConditionalGeneration, AutoTokenizer, AutoProcessor, GenerationConfig\n",
    "from qwen_vl_utils import process_vision_info\n",
    "\n",
    "model = Qwen2_5_VLForConditionalGeneration.from_pretrained(\n",
    "    \"Qwen/Qwen2.5-VL-7B-Instruct\", torch_dtype=\"auto\", device_map=\"auto\"\n",
    ")\n",
    "processor = AutoProcessor.from_pretrained(\"Qwen/Qwen2.5-VL-7B-Instruct\")"
   ]
  },
  {
   "cell_type": "code",
   "execution_count": 13,
   "metadata": {},
   "outputs": [],
   "source": [
    "import os\n",
    "import subprocess\n",
    "import torch\n",
    "\n",
    "def generate_scene_caption(scene_data, previous_caption=None):\n",
    "    # Clear CUDA cache\n",
    "    torch.cuda.empty_cache()\n",
    "\n",
    "    video_length = scene_data.get(\"duration\", 0)\n",
    "    fps = 1.0\n",
    "    max_frames_value = min(32, int(video_length * fps))\n",
    "\n",
    "    previous_context = \"\"\n",
    "    if previous_caption:\n",
    "        previous_context = (\n",
    "            f\"Previously described:\\n{previous_caption}\\n\\n\"\n",
    "            \"Do not repeat the same information.\\n\"\n",
    "        )\n",
    "\n",
    "    if scene_data.get(\"captions\"):\n",
    "        captions_text = \"\\n\".join([f\"- {caption}\" for caption in scene_data[\"captions\"]])\n",
    "        scene_context = f\"Scene {scene_data['scene_number']} captions:\\n{captions_text}\\n\"\n",
    "    else:\n",
    "        scene_context = \"\"\n",
    "\n",
    "    # Build audio context if an audio transcript is available\n",
    "    audio_context = \"\"\n",
    "    if scene_data.get(\"transcript_path\"):\n",
    "        try:\n",
    "            with open(scene_data[\"transcript_path\"], \"r\", encoding=\"utf-8\") as af:\n",
    "                audio_text = af.read().strip()\n",
    "            if audio_text:\n",
    "                audio_context = (\n",
    "                    f\"Audio transcript for Scene {scene_data['scene_number']}:\\n{audio_text}\\n\\n\"\n",
    "                    \"Important: When describing the scene, combine what you observe visually \"\n",
    "                    \"with the context provided in the audio transcript. Use the audio information \"\n",
    "                    \"to enrich your understanding of the events and actions happening in the scene. \"\n",
    "                    \"Create a natural description that weaves together both visual and audio elements.\\n\"\n",
    "                )\n",
    "        except Exception as e:\n",
    "            print(f\"Error reading audio transcript: {e}\")\n",
    "\n",
    "    # Base prompt \n",
    "    base_prompt = (\n",
    "        \"Describe what is happening in this scene by integrating visual observations \"\n",
    "        \"with available audio context. Consider both what you see and any additional \"\n",
    "        \"context from the audio transcript to provide a complete understanding of the scene. \"\n",
    "        \"Create a natural, flowing description that explains both the what and why of \"\n",
    "        \"the events unfolding.\"\n",
    "    )\n",
    "\n",
    "    # Enhanced prompt.\n",
    "    enhanced_prompt = (\n",
    "        f\"{previous_context}\"\n",
    "        f\"{scene_context}\\n\"\n",
    "        f\"{audio_context}\\n\"\n",
    "        f\"{base_prompt}\\n\"\n",
    "    )\n",
    "\n",
    "\n",
    "    messages = [\n",
    "        {\n",
    "            \"role\": \"user\",\n",
    "            \"content\": [\n",
    "                {\n",
    "                    \"type\": \"video\",\n",
    "                    \"video\": scene_data['video_path'],\n",
    "                    \"max_pixels\": 320 * 240,\n",
    "                    \"fps\": fps,\n",
    "                    \"max_frames\": max_frames_value,\n",
    "                },\n",
    "                {\"type\": \"text\", \"text\": enhanced_prompt},\n",
    "            ],\n",
    "        }\n",
    "    ]\n",
    "\n",
    "    print(f\"Processing Scene {scene_data['scene_number']} with max_frames={max_frames_value}\")\n",
    "\n",
    "    dtype = torch.bfloat16\n",
    "\n",
    "    with torch.amp.autocast('cuda', dtype=dtype):\n",
    "        text = processor.apply_chat_template(\n",
    "            messages, tokenize=False, add_generation_prompt=True\n",
    "        )\n",
    "        image_inputs, video_inputs = process_vision_info(messages)\n",
    "        inputs = processor(\n",
    "            text=[text],\n",
    "            images=image_inputs,\n",
    "            videos=video_inputs,\n",
    "            padding=True,\n",
    "            return_tensors=\"pt\",\n",
    "        )\n",
    "\n",
    "        inputs = inputs.to(\"cuda\", dtype=dtype)\n",
    "        input_length = inputs.input_ids.shape[1]\n",
    "\n",
    "        with torch.no_grad():\n",
    "            generation_config = GenerationConfig(\n",
    "                max_new_tokens=128,\n",
    "                do_sample=False,\n",
    "                num_beams=1\n",
    "            )\n",
    "\n",
    "            generated_ids = model.generate(\n",
    "                **inputs,\n",
    "                generation_config=generation_config\n",
    "            )\n",
    "\n",
    "        generated_ids_trimmed = generated_ids[:, input_length:]\n",
    "        output_list = processor.batch_decode(\n",
    "            generated_ids_trimmed,\n",
    "            skip_special_tokens=True,\n",
    "            clean_up_tokenization_spaces=False\n",
    "        )\n",
    "\n",
    "    del inputs, generated_ids, generated_ids_trimmed\n",
    "    torch.cuda.empty_cache()\n",
    "    output_text = ''.join(output_list)\n",
    "    if output_text:\n",
    "        clean_text = output_text.split(\"addCriterion\")[0].strip()\n",
    "    return clean_text if output_text else output_text"
   ]
  },
  {
   "cell_type": "code",
   "execution_count": 8,
   "metadata": {},
   "outputs": [],
   "source": [
    "import json\n",
    "def get_scene_data(scene_number, scenes_json_path):\n",
    "    with open(scenes_json_path, 'r') as f:\n",
    "        scenes = json.load(f)\n",
    "\n",
    "    for scene in scenes:\n",
    "        if scene[\"scene_number\"] == scene_number:\n",
    "            return scene\n",
    "\n",
    "    raise ValueError(f\"Scene {scene_number} not found in {scenes_json_path}\")\n",
    "scene_2_data = get_scene_data(2, f\"videos/n9nC8liwZ5Y/n9nC8liwZ5Y_scenes/scene_info.json\")"
   ]
  },
  {
   "cell_type": "code",
   "execution_count": 14,
   "metadata": {},
   "outputs": [
    {
     "data": {
      "text/plain": [
       "{'scene_number': 2,\n",
       " 'start_frame': 744,\n",
       " 'end_frame': 1330,\n",
       " 'start_time': 31.03094176152061,\n",
       " 'end_time': 55.47197922422367,\n",
       " 'duration': 24.441037462703058,\n",
       " 'video_path': 'videos/n9nC8liwZ5Y/n9nC8liwZ5Y_scenes/scene_002.mp4',\n",
       " 'transcript_path': 'videos/n9nC8liwZ5Y/n9nC8liwZ5Y_scenes/scene_002.txt'}"
      ]
     },
     "execution_count": 14,
     "metadata": {},
     "output_type": "execute_result"
    }
   ],
   "source": [
    "scene_2_data"
   ]
  },
  {
   "cell_type": "code",
   "execution_count": 15,
   "metadata": {},
   "outputs": [
    {
     "name": "stdout",
     "output_type": "stream",
     "text": [
      "Processing Scene 2 with max_frames=24\n"
     ]
    },
    {
     "data": {
      "text/plain": [
       "'In this scene, the setting appears to be a dimly lit, possibly outdoor or semi-outdoor environment, given the presence of a crowd in the background. The focus is on an older man, presumably Uncle Ben, who is seated and appears to be in a state of distress or exhaustion. His expression is one of concern or worry, and his eyes are wide open, suggesting he might be in a moment of realization or shock. He is dressed in a brown jacket over a red and white checkered shirt, which adds to the sense of a rugged or practical individual.\\n\\nThe audio transcript reveals that the younger man, Peter, is calling'"
      ]
     },
     "execution_count": 15,
     "metadata": {},
     "output_type": "execute_result"
    }
   ],
   "source": [
    "generate_scene_caption(scene_2_data)"
   ]
  }
 ],
 "metadata": {
  "kernelspec": {
   "display_name": "CS7980_YouDescribe",
   "language": "python",
   "name": "python3"
  },
  "language_info": {
   "codemirror_mode": {
    "name": "ipython",
    "version": 3
   },
   "file_extension": ".py",
   "mimetype": "text/x-python",
   "name": "python",
   "nbconvert_exporter": "python",
   "pygments_lexer": "ipython3",
   "version": "3.9.18"
  }
 },
 "nbformat": 4,
 "nbformat_minor": 2
}
