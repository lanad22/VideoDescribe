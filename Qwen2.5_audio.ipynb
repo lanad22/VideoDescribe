{
 "cells": [
  {
   "cell_type": "code",
   "execution_count": 1,
   "metadata": {},
   "outputs": [
    {
     "name": "stderr",
     "output_type": "stream",
     "text": [
      "/home/do.ng/.conda/envs/CS7980_YouDescribe/lib/python3.9/site-packages/tqdm/auto.py:21: TqdmWarning: IProgress not found. Please update jupyter and ipywidgets. See https://ipywidgets.readthedocs.io/en/stable/user_install.html\n",
      "  from .autonotebook import tqdm as notebook_tqdm\n"
     ]
    }
   ],
   "source": [
    "import torchvision\n",
    "import transformers\n",
    "import torch"
   ]
  },
  {
   "cell_type": "code",
   "execution_count": 2,
   "metadata": {},
   "outputs": [],
   "source": [
    "import os\n",
    "os.environ[\"TOKENIZERS_PARALLELISM\"] = \"false\"\n",
    "\n",
    "import hashlib\n",
    "import requests\n",
    "\n",
    "import numpy as np\n",
    "import decord\n",
    "from decord import VideoReader, cpu"
   ]
  },
  {
   "cell_type": "code",
   "execution_count": 3,
   "metadata": {},
   "outputs": [],
   "source": [
    "import subprocess"
   ]
  },
  {
   "cell_type": "code",
   "execution_count": 4,
   "metadata": {},
   "outputs": [
    {
     "name": "stderr",
     "output_type": "stream",
     "text": [
      "Loading checkpoint shards: 100%|██████████| 5/5 [00:04<00:00,  1.19it/s]\n",
      "Using a slow image processor as `use_fast` is unset and a slow processor was saved with this model. `use_fast=True` will be the default behavior in v4.48, even if the model was saved with a slow processor. This will result in minor differences in outputs. You'll still be able to use a slow processor with `use_fast=False`.\n"
     ]
    }
   ],
   "source": [
    "from transformers import Qwen2_5_VLForConditionalGeneration, AutoTokenizer, AutoProcessor, GenerationConfig\n",
    "from qwen_vl_utils import process_vision_info\n",
    "\n",
    "model_path = \"Qwen/Qwen2.5-VL-7B-Instruct\"\n",
    "\n",
    "model = Qwen2_5_VLForConditionalGeneration.from_pretrained(\n",
    "    model_path,\n",
    "    torch_dtype=torch.bfloat16,\n",
    "    attn_implementation=\"flash_attention_2\",\n",
    "    device_map=\"auto\"\n",
    ")\n",
    "processor = AutoProcessor.from_pretrained(model_path)"
   ]
  },
  {
   "cell_type": "code",
   "execution_count": 5,
   "metadata": {},
   "outputs": [],
   "source": [
    "def get_video_frames(video_path, cache_dir='.cache'):\n",
    "    MAX_FRAMES = 128\n",
    "    os.makedirs(cache_dir, exist_ok=True)\n",
    "\n",
    "    video_hash = hashlib.md5(video_path.encode('utf-8')).hexdigest()\n",
    "    frames_cache_file = os.path.join(cache_dir, f'{video_hash}_frames.npy')\n",
    "\n",
    "    '''if os.path.exists(frames_cache_file):\n",
    "        frames = np.load(frames_cache_file)\n",
    "        return frames  # Return frames directly'''\n",
    "\n",
    "    # Get I-frame indices using ffprobe\n",
    "    cmd = f'ffprobe -select_streams v -show_frames -show_entries frame=pict_type,pkt_pts_time -of csv {video_path}'\n",
    "    result = subprocess.check_output(cmd, shell=True).decode()\n",
    "\n",
    "    iframe_indices = []\n",
    "    frame_idx = 0\n",
    "    for line in result.split('\\n'):\n",
    "        if 'I' in line:\n",
    "            iframe_indices.append(frame_idx)\n",
    "        frame_idx += 1\n",
    "\n",
    "    iframe_indices = np.array(iframe_indices)\n",
    "    print(f\"Number of i-frames: {len(iframe_indices)}\")\n",
    "\n",
    "    if len(iframe_indices) > MAX_FRAMES:\n",
    "        selected_indices = np.linspace(0, len(iframe_indices) - 1, num=MAX_FRAMES, dtype=int)\n",
    "        iframe_indices = iframe_indices[selected_indices]\n",
    "    print(f\"Number of i-frames: {len(iframe_indices)}\")\n",
    "    vr = VideoReader(video_path, ctx=cpu(0))\n",
    "    frames = vr.get_batch(iframe_indices).asnumpy()\n",
    "\n",
    "    np.save(frames_cache_file, frames)\n",
    "    \n",
    "    return frames  \n"
   ]
  },
  {
   "cell_type": "code",
   "execution_count": 6,
   "metadata": {},
   "outputs": [],
   "source": [
    "def inference(frames, prompt, max_new_tokens=2048):\n",
    "    if isinstance(frames, np.ndarray):\n",
    "        frames = torch.tensor(frames, dtype=torch.float32).to('cuda')\n",
    "\n",
    "    messages = [\n",
    "        {\"role\": \"system\", \"content\": \"You are a helpful assistant.\"},\n",
    "        {\"role\": \"user\", \"content\": [\n",
    "                {\"type\": \"text\", \"text\": prompt},\n",
    "                {\"video\": frames},  # Provide frames directly\n",
    "            ]\n",
    "        },\n",
    "    ]\n",
    "\n",
    "    text = processor.apply_chat_template(messages, tokenize=False, add_generation_prompt=True)\n",
    "    inputs = processor(text=[text], videos=frames, padding=True, return_tensors=\"pt\").to('cuda')\n",
    "\n",
    "    output_ids = model.generate(**inputs, max_new_tokens=max_new_tokens)\n",
    "    generated_ids = [output_ids[len(input_ids):] for input_ids, output_ids in zip(inputs.input_ids, output_ids)]\n",
    "    output_text = processor.batch_decode(generated_ids, skip_special_tokens=True, clean_up_tokenization_spaces=True)\n",
    "    return output_text[0]\n"
   ]
  },
  {
   "cell_type": "code",
   "execution_count": 7,
   "metadata": {},
   "outputs": [
    {
     "name": "stderr",
     "output_type": "stream",
     "text": [
      "ffprobe version 7.1 Copyright (c) 2007-2024 the FFmpeg developers\n",
      "  built with gcc 13.3.0 (conda-forge gcc 13.3.0-1)\n",
      "  configuration: --prefix=/home/do.ng/.conda/envs/CS7980_YouDescribe --cc=/home/conda/feedstock_root/build_artifacts/ffmpeg_1739478357321/_build_env/bin/x86_64-conda-linux-gnu-cc --cxx=/home/conda/feedstock_root/build_artifacts/ffmpeg_1739478357321/_build_env/bin/x86_64-conda-linux-gnu-c++ --nm=/home/conda/feedstock_root/build_artifacts/ffmpeg_1739478357321/_build_env/bin/x86_64-conda-linux-gnu-nm --ar=/home/conda/feedstock_root/build_artifacts/ffmpeg_1739478357321/_build_env/bin/x86_64-conda-linux-gnu-ar --disable-doc --enable-openssl --enable-demuxer=dash --enable-hardcoded-tables --enable-libfreetype --enable-libharfbuzz --enable-libfontconfig --enable-libopenh264 --enable-libdav1d --disable-gnutls --enable-libmp3lame --enable-libvpx --enable-libass --enable-pthreads --enable-alsa --enable-libpulse --enable-vaapi --enable-libopenvino --enable-gpl --enable-libx264 --enable-libx265 --enable-libaom --enable-libsvtav1 --enable-libxml2 --enable-pic --enable-shared --disable-static --enable-version3 --enable-zlib --enable-libopus --enable-librsvg --enable-ffplay --pkg-config=/home/conda/feedstock_root/build_artifacts/ffmpeg_1739478357321/_build_env/bin/pkg-config\n",
      "  libavutil      59. 39.100 / 59. 39.100\n",
      "  libavcodec     61. 19.100 / 61. 19.100\n",
      "  libavformat    61.  7.100 / 61.  7.100\n",
      "  libavdevice    61.  3.100 / 61.  3.100\n",
      "  libavfilter    10.  4.100 / 10.  4.100\n",
      "  libswscale      8.  3.100 /  8.  3.100\n",
      "  libswresample   5.  3.100 /  5.  3.100\n",
      "  libpostproc    58.  3.100 / 58.  3.100\n",
      "Input #0, mov,mp4,m4a,3gp,3g2,mj2, from 'videos/n9nC8liwZ5Y/n9nC8liwZ5Y_scenes/scene_015.mp4':\n",
      "  Metadata:\n",
      "    major_brand     : isom\n",
      "    minor_version   : 512\n",
      "    compatible_brands: isomiso2avc1mp41\n",
      "    encoder         : Lavf61.7.100\n",
      "  Duration: 00:00:12.22, start: 3.461000, bitrate: 971 kb/s\n",
      "  Stream #0:0[0x1](und): Video: h264 (High) (avc1 / 0x31637661), yuv420p(tv, bt709, progressive), 1280x720, 969 kb/s, 23.98 fps, 23.98 tbr, 24k tbn (default)\n",
      "      Metadata:\n",
      "        handler_name    : ISO Media file produced by Google Inc. Created on: 02/02/2025.\n",
      "        vendor_id       : [0][0][0][0]\n",
      "        encoder         : Lavc61.19.100 libx264\n"
     ]
    },
    {
     "name": "stdout",
     "output_type": "stream",
     "text": [
      "Number of i-frames: 12\n",
      "Number of i-frames: 12\n"
     ]
    }
   ],
   "source": [
    "#video_path = \"videos/rlOywSJnPOU/rlOywSJnPOU_scenes/scene_002.mp4\"\n",
    "video_path = \"videos/n9nC8liwZ5Y/n9nC8liwZ5Y_scenes/scene_015.mp4\"\n",
    "prompt = \"Describe the scene.\"\n",
    "\n",
    "frames = get_video_frames(video_path)"
   ]
  },
  {
   "cell_type": "code",
   "execution_count": 8,
   "metadata": {},
   "outputs": [
    {
     "data": {
      "text/markdown": [
       "The scene appears to be set in a dimly lit, possibly abandoned or old building. The lighting is low, creating a tense and eerie atmosphere. A young man with short dark hair, wearing a red shirt, is seen in close-up shots. His expression is serious and somewhat concerned as he looks at someone off-camera. The background includes a window with bars and some indistinct objects that suggest an older, possibly neglected environment. The overall mood of the scene is suspenseful and dramatic."
      ],
      "text/plain": [
       "<IPython.core.display.Markdown object>"
      ]
     },
     "metadata": {},
     "output_type": "display_data"
    }
   ],
   "source": [
    "from IPython.display import Markdown, display\n",
    "response = inference(frames, prompt)\n",
    "display(Markdown(response))"
   ]
  },
  {
   "cell_type": "code",
   "execution_count": 17,
   "metadata": {},
   "outputs": [],
   "source": [
    "def generate_scene_caption(frames, scene_data=None, previous_caption=None,max_new_tokens=2048, total_pixels=20480 * 28 * 28, min_pixels=16 * 28 * 28):\n",
    "    # Build context from scene_data if available\n",
    "    context_parts = []\n",
    "    \n",
    "    \n",
    "    if previous_caption:\n",
    "        context_parts.append(\n",
    "            f\"Background context (for reference only, do not repeat):\\n{previous_caption}\\n\\n\"\n",
    "            \"Focus on new observations, actions, and details from the current scene.\\n\"\n",
    "        )\n",
    "        \n",
    "\n",
    "    if scene_data and scene_data.get(\"captions\"):\n",
    "        captions_text = \"\\n\".join([f\"- {caption}\" for caption in scene_data[\"captions\"]])\n",
    "        context_parts.append(f\"Scene {scene_data['scene_number']} captions:\\n{captions_text}\\n\")\n",
    "\n",
    "    # Add audio context if available\n",
    "    if scene_data and scene_data.get(\"transcripts\"):\n",
    "        audio_text = \"\\n\".join([f\"- {transcript_text}\" for transcript_text in scene_data[\"transcripts\"]])    \n",
    "        context_parts.append(\n",
    "            f\"Audio transcript for Scene {scene_data['scene_number']}:\\n{audio_text}\\n\"\n",
    "        )\n",
    "        '''\n",
    "            \"When describing the scene, combine what you observe visually with the context provided in the audio transcript. \"\n",
    "            \"Use the audio information to enrich your understanding of the events and actions happening in the scene. \"\n",
    "            \"Create a natural description that weaves together both visual and audio elements.\\n\"\n",
    "        )\n",
    "        '''\n",
    "        \n",
    "\n",
    "    # Build final prompt\n",
    "    context = \"\\n\".join(context_parts)\n",
    "    prompt = (\n",
    "        f\"{context}\\n\\n\"\n",
    "        \"Understand the scene by integrating visual and audio context.\\n\"\n",
    "        \"Describe the scene with rich context using the fewest syllables possible.\"\n",
    "    )\n",
    "\n",
    "    #print(prompt)\n",
    "\n",
    "    if isinstance(frames, np.ndarray):\n",
    "        frames = torch.tensor(frames, dtype=torch.float32).to('cuda')\n",
    "\n",
    "    messages = [\n",
    "        {\"role\": \"system\", \"content\": \"You are a helpful assistant.\"},\n",
    "        {\"role\": \"user\", \"content\": [\n",
    "                {\"type\": \"text\", \"text\": prompt},\n",
    "                {\"video\": frames},  # Provide frames directly\n",
    "            ]\n",
    "        },\n",
    "    ]\n",
    "\n",
    "    text = processor.apply_chat_template(messages, tokenize=False, add_generation_prompt=True)\n",
    "    inputs = processor(text=[text], videos=frames, padding=True, return_tensors=\"pt\").to('cuda')\n",
    "\n",
    "    output_ids = model.generate(**inputs, max_new_tokens=max_new_tokens)\n",
    "    generated_ids = [output_ids[len(input_ids):] for input_ids, output_ids in zip(inputs.input_ids, output_ids)]\n",
    "    output_text = processor.batch_decode(generated_ids, skip_special_tokens=True, clean_up_tokenization_spaces=True)\n",
    "    return output_text[0]"
   ]
  },
  {
   "cell_type": "code",
   "execution_count": 10,
   "metadata": {},
   "outputs": [],
   "source": [
    "import json\n",
    "def get_scene_data(scene_number, scenes_json_path):\n",
    "    with open(scenes_json_path, 'r') as f:\n",
    "        scenes = json.load(f)\n",
    "\n",
    "    for scene in scenes:\n",
    "        if scene[\"scene_number\"] == scene_number:\n",
    "            return scene\n",
    "\n",
    "    raise ValueError(f\"Scene {scene_number} not found in {scenes_json_path}\")\n"
   ]
  },
  {
   "cell_type": "code",
   "execution_count": 18,
   "metadata": {},
   "outputs": [],
   "source": [
    "scene_1_data = get_scene_data(1, f\"videos/n9nC8liwZ5Y/n9nC8liwZ5Y_scenes/scene_info.json\")\n",
    "#scene_2_data = get_scene_data(2,f\"videos/rlOywSJnPOU/rlOywSJnPOU_scenes/scene_info.json\")"
   ]
  },
  {
   "cell_type": "code",
   "execution_count": 19,
   "metadata": {},
   "outputs": [
    {
     "name": "stderr",
     "output_type": "stream",
     "text": [
      "ffprobe version 7.1 Copyright (c) 2007-2024 the FFmpeg developers\n",
      "  built with gcc 13.3.0 (conda-forge gcc 13.3.0-1)\n",
      "  configuration: --prefix=/home/do.ng/.conda/envs/CS7980_YouDescribe --cc=/home/conda/feedstock_root/build_artifacts/ffmpeg_1739478357321/_build_env/bin/x86_64-conda-linux-gnu-cc --cxx=/home/conda/feedstock_root/build_artifacts/ffmpeg_1739478357321/_build_env/bin/x86_64-conda-linux-gnu-c++ --nm=/home/conda/feedstock_root/build_artifacts/ffmpeg_1739478357321/_build_env/bin/x86_64-conda-linux-gnu-nm --ar=/home/conda/feedstock_root/build_artifacts/ffmpeg_1739478357321/_build_env/bin/x86_64-conda-linux-gnu-ar --disable-doc --enable-openssl --enable-demuxer=dash --enable-hardcoded-tables --enable-libfreetype --enable-libharfbuzz --enable-libfontconfig --enable-libopenh264 --enable-libdav1d --disable-gnutls --enable-libmp3lame --enable-libvpx --enable-libass --enable-pthreads --enable-alsa --enable-libpulse --enable-vaapi --enable-libopenvino --enable-gpl --enable-libx264 --enable-libx265 --enable-libaom --enable-libsvtav1 --enable-libxml2 --enable-pic --enable-shared --disable-static --enable-version3 --enable-zlib --enable-libopus --enable-librsvg --enable-ffplay --pkg-config=/home/conda/feedstock_root/build_artifacts/ffmpeg_1739478357321/_build_env/bin/pkg-config\n",
      "  libavutil      59. 39.100 / 59. 39.100\n",
      "  libavcodec     61. 19.100 / 61. 19.100\n",
      "  libavformat    61.  7.100 / 61.  7.100\n",
      "  libavdevice    61.  3.100 / 61.  3.100\n",
      "  libavfilter    10.  4.100 / 10.  4.100\n",
      "  libswscale      8.  3.100 /  8.  3.100\n",
      "  libswresample   5.  3.100 /  5.  3.100\n",
      "  libpostproc    58.  3.100 / 58.  3.100\n",
      "Input #0, mov,mp4,m4a,3gp,3g2,mj2, from 'videos/n9nC8liwZ5Y/n9nC8liwZ5Y_scenes/scene_001.mp4':\n",
      "  Metadata:\n",
      "    major_brand     : isom\n",
      "    minor_version   : 512\n",
      "    compatible_brands: isomiso2avc1mp41\n",
      "    encoder         : Lavf61.7.100\n",
      "  Duration: 00:00:48.47, start: 0.000000, bitrate: 1311 kb/s\n",
      "  Stream #0:0[0x1](und): Video: h264 (High) (avc1 / 0x31637661), yuv420p(tv, bt709, progressive), 1280x720, 1309 kb/s, 23.98 fps, 23.98 tbr, 24k tbn (default)\n",
      "      Metadata:\n",
      "        handler_name    : ISO Media file produced by Google Inc. Created on: 02/02/2025.\n",
      "        vendor_id       : [0][0][0][0]\n",
      "        encoder         : Lavc61.19.100 libx264\n"
     ]
    },
    {
     "name": "stdout",
     "output_type": "stream",
     "text": [
      "Number of i-frames: 45\n",
      "Number of i-frames: 45\n"
     ]
    }
   ],
   "source": [
    "video_frames_path_1 = get_video_frames(scene_1_data['video_path'])"
   ]
  },
  {
   "cell_type": "code",
   "execution_count": 20,
   "metadata": {},
   "outputs": [],
   "source": [
    "scene_1_caption = generate_scene_caption(video_frames_path_1, scene_1_data)"
   ]
  },
  {
   "cell_type": "code",
   "execution_count": 22,
   "metadata": {},
   "outputs": [
    {
     "data": {
      "text/plain": [
       "'A carjacking occurs at night in a busy city street. A crowd gathers as police arrive. Peter Parker, a young man, rushes to help an injured man, Uncle Ben, who is lying on the ground. The scene captures the urgency and concern of the moment.'"
      ]
     },
     "execution_count": 22,
     "metadata": {},
     "output_type": "execute_result"
    }
   ],
   "source": [
    "scene_1_caption"
   ]
  },
  {
   "cell_type": "code",
   "execution_count": 23,
   "metadata": {},
   "outputs": [
    {
     "name": "stderr",
     "output_type": "stream",
     "text": [
      "ffprobe version 7.1 Copyright (c) 2007-2024 the FFmpeg developers\n",
      "  built with gcc 13.3.0 (conda-forge gcc 13.3.0-1)\n",
      "  configuration: --prefix=/home/do.ng/.conda/envs/CS7980_YouDescribe --cc=/home/conda/feedstock_root/build_artifacts/ffmpeg_1739478357321/_build_env/bin/x86_64-conda-linux-gnu-cc --cxx=/home/conda/feedstock_root/build_artifacts/ffmpeg_1739478357321/_build_env/bin/x86_64-conda-linux-gnu-c++ --nm=/home/conda/feedstock_root/build_artifacts/ffmpeg_1739478357321/_build_env/bin/x86_64-conda-linux-gnu-nm --ar=/home/conda/feedstock_root/build_artifacts/ffmpeg_1739478357321/_build_env/bin/x86_64-conda-linux-gnu-ar --disable-doc --enable-openssl --enable-demuxer=dash --enable-hardcoded-tables --enable-libfreetype --enable-libharfbuzz --enable-libfontconfig --enable-libopenh264 --enable-libdav1d --disable-gnutls --enable-libmp3lame --enable-libvpx --enable-libass --enable-pthreads --enable-alsa --enable-libpulse --enable-vaapi --enable-libopenvino --enable-gpl --enable-libx264 --enable-libx265 --enable-libaom --enable-libsvtav1 --enable-libxml2 --enable-pic --enable-shared --disable-static --enable-version3 --enable-zlib --enable-libopus --enable-librsvg --enable-ffplay --pkg-config=/home/conda/feedstock_root/build_artifacts/ffmpeg_1739478357321/_build_env/bin/pkg-config\n",
      "  libavutil      59. 39.100 / 59. 39.100\n",
      "  libavcodec     61. 19.100 / 61. 19.100\n",
      "  libavformat    61.  7.100 / 61.  7.100\n",
      "  libavdevice    61.  3.100 / 61.  3.100\n",
      "  libavfilter    10.  4.100 / 10.  4.100\n",
      "  libswscale      8.  3.100 /  8.  3.100\n",
      "  libswresample   5.  3.100 /  5.  3.100\n",
      "  libpostproc    58.  3.100 / 58.  3.100\n",
      "Input #0, mov,mp4,m4a,3gp,3g2,mj2, from 'videos/n9nC8liwZ5Y/n9nC8liwZ5Y_scenes/scene_002.mp4':\n",
      "  Metadata:\n",
      "    major_brand     : isom\n",
      "    minor_version   : 512\n",
      "    compatible_brands: isomiso2avc1mp41\n",
      "    encoder         : Lavf61.7.100\n",
      "  Duration: 00:00:22.15, start: 1.626000, bitrate: 984 kb/s\n",
      "  Stream #0:0[0x1](und): Video: h264 (High) (avc1 / 0x31637661), yuv420p(tv, bt709, progressive), 1280x720, 982 kb/s, 23.98 fps, 23.98 tbr, 24k tbn (default)\n",
      "      Metadata:\n",
      "        handler_name    : ISO Media file produced by Google Inc. Created on: 02/02/2025.\n",
      "        vendor_id       : [0][0][0][0]\n",
      "        encoder         : Lavc61.19.100 libx264\n"
     ]
    },
    {
     "name": "stdout",
     "output_type": "stream",
     "text": [
      "Number of i-frames: 20\n",
      "Number of i-frames: 20\n"
     ]
    }
   ],
   "source": [
    "scene_2_data = get_scene_data(2, f\"videos/n9nC8liwZ5Y/n9nC8liwZ5Y_scenes/scene_info.json\")\n",
    "video_frames_path_2 = get_video_frames(scene_2_data['video_path'])"
   ]
  },
  {
   "cell_type": "code",
   "execution_count": 24,
   "metadata": {},
   "outputs": [
    {
     "data": {
      "text/plain": [
       "'Peter Parker rushes to help an injured Uncle Ben, expressing concern and urgency.'"
      ]
     },
     "execution_count": 24,
     "metadata": {},
     "output_type": "execute_result"
    }
   ],
   "source": [
    "generate_scene_caption(video_frames_path_2, scene_2_data, previous_caption=scene_1_caption)"
   ]
  },
  {
   "cell_type": "code",
   "execution_count": 72,
   "metadata": {},
   "outputs": [],
   "source": [
    "def process_all_scenes(scene_folder):\n",
    "    scenes_json_path = os.path.join(scene_folder, \"scene_info.json\")\n",
    "    if not os.path.exists(scenes_json_path):\n",
    "        print(f\"Error: scene_info.json not found in {scene_folder}\")\n",
    "        return\n",
    "\n",
    "    with open(scenes_json_path, \"r\") as f:\n",
    "        scene_list = json.load(f)\n",
    "\n",
    "    print(f\"Processing {len(scene_list)} scenes in {scene_folder}...\")\n",
    "\n",
    "    captions = []\n",
    "    previous_caption = None\n",
    "\n",
    "    for idx, scene_data in enumerate(scene_list, start=1):\n",
    "        video_frames_path = get_video_frames(scene_data['video_path'])\n",
    "        scene_caption = generate_scene_caption(video_frames_path,scene_data,previous_caption=previous_caption)\n",
    "        print(scene_caption)\n",
    "        captions.append(scene_caption)\n",
    "        previous_caption = scene_caption\n",
    "\n",
    "    # Merge captions\n",
    "    final_caption_text = \"\\n\".join(\n",
    "        [f\"Scene {i+1}: {desc}\" for i, desc in enumerate(captions)]\n",
    "    )\n",
    "\n",
    "    # Save captions to a text file\n",
    "    caption_output_path = os.path.join(scene_folder, \"final_captions.txt\")\n",
    "    with open(caption_output_path, \"w\") as f:\n",
    "        f.write(final_caption_text)\n",
    "\n",
    "    print(f\"\\nCaptioning complete! Final captions saved to: {caption_output_path}\")\n",
    "    return final_caption_text"
   ]
  },
  {
   "cell_type": "code",
   "execution_count": 73,
   "metadata": {},
   "outputs": [
    {
     "name": "stdout",
     "output_type": "stream",
     "text": [
      "Processing 8 scenes in videos/n9nC8liwZ5Y/n9nC8liwZ5Y_scenes...\n",
      "A carjacking occurs at night in a busy city street. A crowd gathers as police arrive. Peter Parker, a young man, rushes to help an injured man, Uncle Ben, who is lying on the ground. The scene captures the urgency and concern of the moment.\n",
      "Peter Parker rushes to help an injured Uncle Ben, expressing concern and urgency.\n",
      "Peter Parker cries as he rushes to help an injured Uncle Ben, with three cars pursuing him.\n",
      "Spider-Man climbs up building, leaps across rooftops, descends into alleyway.\n"
     ]
    },
    {
     "name": "stderr",
     "output_type": "stream",
     "text": [
      "ffprobe version 7.1 Copyright (c) 2007-2024 the FFmpeg developers\n",
      "  built with gcc 13.3.0 (conda-forge gcc 13.3.0-1)\n",
      "  configuration: --prefix=/home/do.ng/.conda/envs/CS7980_YouDescribe --cc=/home/conda/feedstock_root/build_artifacts/ffmpeg_1739478357321/_build_env/bin/x86_64-conda-linux-gnu-cc --cxx=/home/conda/feedstock_root/build_artifacts/ffmpeg_1739478357321/_build_env/bin/x86_64-conda-linux-gnu-c++ --nm=/home/conda/feedstock_root/build_artifacts/ffmpeg_1739478357321/_build_env/bin/x86_64-conda-linux-gnu-nm --ar=/home/conda/feedstock_root/build_artifacts/ffmpeg_1739478357321/_build_env/bin/x86_64-conda-linux-gnu-ar --disable-doc --enable-openssl --enable-demuxer=dash --enable-hardcoded-tables --enable-libfreetype --enable-libharfbuzz --enable-libfontconfig --enable-libopenh264 --enable-libdav1d --disable-gnutls --enable-libmp3lame --enable-libvpx --enable-libass --enable-pthreads --enable-alsa --enable-libpulse --enable-vaapi --enable-libopenvino --enable-gpl --enable-libx264 --enable-libx265 --enable-libaom --enable-libsvtav1 --enable-libxml2 --enable-pic --enable-shared --disable-static --enable-version3 --enable-zlib --enable-libopus --enable-librsvg --enable-ffplay --pkg-config=/home/conda/feedstock_root/build_artifacts/ffmpeg_1739478357321/_build_env/bin/pkg-config\n",
      "  libavutil      59. 39.100 / 59. 39.100\n",
      "  libavcodec     61. 19.100 / 61. 19.100\n",
      "  libavformat    61.  7.100 / 61.  7.100\n",
      "  libavdevice    61.  3.100 / 61.  3.100\n",
      "  libavfilter    10.  4.100 / 10.  4.100\n",
      "  libswscale      8.  3.100 /  8.  3.100\n",
      "  libswresample   5.  3.100 /  5.  3.100\n",
      "  libpostproc    58.  3.100 / 58.  3.100\n",
      "Input #0, mov,mp4,m4a,3gp,3g2,mj2, from 'videos/n9nC8liwZ5Y/n9nC8liwZ5Y_scenes/scene_005.mp4':\n",
      "  Metadata:\n",
      "    major_brand     : isom\n",
      "    minor_version   : 512\n",
      "    compatible_brands: isomiso2avc1mp41\n",
      "    encoder         : Lavf61.7.100\n",
      "  Duration: 00:00:10.01, start: 2.210000, bitrate: 899 kb/s\n",
      "  Stream #0:0[0x1](und): Video: h264 (High) (avc1 / 0x31637661), yuv420p(tv, bt709, progressive), 1280x720, 896 kb/s, 23.98 fps, 23.98 tbr, 24k tbn (default)\n",
      "      Metadata:\n",
      "        handler_name    : ISO Media file produced by Google Inc. Created on: 02/02/2025.\n",
      "        vendor_id       : [0][0][0][0]\n",
      "        encoder         : Lavc61.19.100 libx264\n"
     ]
    },
    {
     "name": "stdout",
     "output_type": "stream",
     "text": [
      "Number of i-frames: 8\n",
      "Spider-Man swings through city at night.\n"
     ]
    },
    {
     "name": "stderr",
     "output_type": "stream",
     "text": [
      "ffprobe version 7.1 Copyright (c) 2007-2024 the FFmpeg developers\n",
      "  built with gcc 13.3.0 (conda-forge gcc 13.3.0-1)\n",
      "  configuration: --prefix=/home/do.ng/.conda/envs/CS7980_YouDescribe --cc=/home/conda/feedstock_root/build_artifacts/ffmpeg_1739478357321/_build_env/bin/x86_64-conda-linux-gnu-cc --cxx=/home/conda/feedstock_root/build_artifacts/ffmpeg_1739478357321/_build_env/bin/x86_64-conda-linux-gnu-c++ --nm=/home/conda/feedstock_root/build_artifacts/ffmpeg_1739478357321/_build_env/bin/x86_64-conda-linux-gnu-nm --ar=/home/conda/feedstock_root/build_artifacts/ffmpeg_1739478357321/_build_env/bin/x86_64-conda-linux-gnu-ar --disable-doc --enable-openssl --enable-demuxer=dash --enable-hardcoded-tables --enable-libfreetype --enable-libharfbuzz --enable-libfontconfig --enable-libopenh264 --enable-libdav1d --disable-gnutls --enable-libmp3lame --enable-libvpx --enable-libass --enable-pthreads --enable-alsa --enable-libpulse --enable-vaapi --enable-libopenvino --enable-gpl --enable-libx264 --enable-libx265 --enable-libaom --enable-libsvtav1 --enable-libxml2 --enable-pic --enable-shared --disable-static --enable-version3 --enable-zlib --enable-libopus --enable-librsvg --enable-ffplay --pkg-config=/home/conda/feedstock_root/build_artifacts/ffmpeg_1739478357321/_build_env/bin/pkg-config\n",
      "  libavutil      59. 39.100 / 59. 39.100\n",
      "  libavcodec     61. 19.100 / 61. 19.100\n",
      "  libavformat    61.  7.100 / 61.  7.100\n",
      "  libavdevice    61.  3.100 / 61.  3.100\n",
      "  libavfilter    10.  4.100 / 10.  4.100\n",
      "  libswscale      8.  3.100 /  8.  3.100\n",
      "  libswresample   5.  3.100 /  5.  3.100\n",
      "  libpostproc    58.  3.100 / 58.  3.100\n",
      "Input #0, mov,mp4,m4a,3gp,3g2,mj2, from 'videos/n9nC8liwZ5Y/n9nC8liwZ5Y_scenes/scene_006.mp4':\n",
      "  Metadata:\n",
      "    major_brand     : isom\n",
      "    minor_version   : 512\n",
      "    compatible_brands: isomiso2avc1mp41\n",
      "    encoder         : Lavf61.7.100\n",
      "  Duration: 00:03:13.90, start: 0.000000, bitrate: 1582 kb/s\n",
      "  Stream #0:0[0x1](und): Video: h264 (High) (avc1 / 0x31637661), yuv420p(tv, bt709, progressive), 1280x720, 1580 kb/s, 23.98 fps, 23.98 tbr, 24k tbn (default)\n",
      "      Metadata:\n",
      "        handler_name    : ISO Media file produced by Google Inc. Created on: 02/02/2025.\n",
      "        vendor_id       : [0][0][0][0]\n",
      "        encoder         : Lavc61.19.100 libx264\n"
     ]
    },
    {
     "name": "stdout",
     "output_type": "stream",
     "text": [
      "Number of i-frames: 216\n",
      "Spider-Man swings through the city at night, dodging traffic and navigating urban obstacles.\n"
     ]
    },
    {
     "name": "stderr",
     "output_type": "stream",
     "text": [
      "ffprobe version 7.1 Copyright (c) 2007-2024 the FFmpeg developers\n",
      "  built with gcc 13.3.0 (conda-forge gcc 13.3.0-1)\n",
      "  configuration: --prefix=/home/do.ng/.conda/envs/CS7980_YouDescribe --cc=/home/conda/feedstock_root/build_artifacts/ffmpeg_1739478357321/_build_env/bin/x86_64-conda-linux-gnu-cc --cxx=/home/conda/feedstock_root/build_artifacts/ffmpeg_1739478357321/_build_env/bin/x86_64-conda-linux-gnu-c++ --nm=/home/conda/feedstock_root/build_artifacts/ffmpeg_1739478357321/_build_env/bin/x86_64-conda-linux-gnu-nm --ar=/home/conda/feedstock_root/build_artifacts/ffmpeg_1739478357321/_build_env/bin/x86_64-conda-linux-gnu-ar --disable-doc --enable-openssl --enable-demuxer=dash --enable-hardcoded-tables --enable-libfreetype --enable-libharfbuzz --enable-libfontconfig --enable-libopenh264 --enable-libdav1d --disable-gnutls --enable-libmp3lame --enable-libvpx --enable-libass --enable-pthreads --enable-alsa --enable-libpulse --enable-vaapi --enable-libopenvino --enable-gpl --enable-libx264 --enable-libx265 --enable-libaom --enable-libsvtav1 --enable-libxml2 --enable-pic --enable-shared --disable-static --enable-version3 --enable-zlib --enable-libopus --enable-librsvg --enable-ffplay --pkg-config=/home/conda/feedstock_root/build_artifacts/ffmpeg_1739478357321/_build_env/bin/pkg-config\n",
      "  libavutil      59. 39.100 / 59. 39.100\n",
      "  libavcodec     61. 19.100 / 61. 19.100\n",
      "  libavformat    61.  7.100 / 61.  7.100\n",
      "  libavdevice    61.  3.100 / 61.  3.100\n",
      "  libavfilter    10.  4.100 / 10.  4.100\n",
      "  libswscale      8.  3.100 /  8.  3.100\n",
      "  libswresample   5.  3.100 /  5.  3.100\n",
      "  libpostproc    58.  3.100 / 58.  3.100\n",
      "Input #0, mov,mp4,m4a,3gp,3g2,mj2, from 'videos/n9nC8liwZ5Y/n9nC8liwZ5Y_scenes/scene_007.mp4':\n",
      "  Metadata:\n",
      "    major_brand     : isom\n",
      "    minor_version   : 512\n",
      "    compatible_brands: isomiso2avc1mp41\n",
      "    encoder         : Lavf61.7.100\n",
      "  Duration: 00:00:12.05, start: 1.292000, bitrate: 1818 kb/s\n",
      "  Stream #0:0[0x1](und): Video: h264 (High) (avc1 / 0x31637661), yuv420p(tv, bt709, progressive), 1280x720, 1815 kb/s, 23.98 fps, 23.98 tbr, 24k tbn (default)\n",
      "      Metadata:\n",
      "        handler_name    : ISO Media file produced by Google Inc. Created on: 02/02/2025.\n",
      "        vendor_id       : [0][0][0][0]\n",
      "        encoder         : Lavc61.19.100 libx264\n"
     ]
    },
    {
     "name": "stdout",
     "output_type": "stream",
     "text": [
      "Number of i-frames: 10\n",
      "Police officers search building at night, flashlight beams illuminating dark interior.\n"
     ]
    },
    {
     "name": "stderr",
     "output_type": "stream",
     "text": [
      "ffprobe version 7.1 Copyright (c) 2007-2024 the FFmpeg developers\n",
      "  built with gcc 13.3.0 (conda-forge gcc 13.3.0-1)\n",
      "  configuration: --prefix=/home/do.ng/.conda/envs/CS7980_YouDescribe --cc=/home/conda/feedstock_root/build_artifacts/ffmpeg_1739478357321/_build_env/bin/x86_64-conda-linux-gnu-cc --cxx=/home/conda/feedstock_root/build_artifacts/ffmpeg_1739478357321/_build_env/bin/x86_64-conda-linux-gnu-c++ --nm=/home/conda/feedstock_root/build_artifacts/ffmpeg_1739478357321/_build_env/bin/x86_64-conda-linux-gnu-nm --ar=/home/conda/feedstock_root/build_artifacts/ffmpeg_1739478357321/_build_env/bin/x86_64-conda-linux-gnu-ar --disable-doc --enable-openssl --enable-demuxer=dash --enable-hardcoded-tables --enable-libfreetype --enable-libharfbuzz --enable-libfontconfig --enable-libopenh264 --enable-libdav1d --disable-gnutls --enable-libmp3lame --enable-libvpx --enable-libass --enable-pthreads --enable-alsa --enable-libpulse --enable-vaapi --enable-libopenvino --enable-gpl --enable-libx264 --enable-libx265 --enable-libaom --enable-libsvtav1 --enable-libxml2 --enable-pic --enable-shared --disable-static --enable-version3 --enable-zlib --enable-libopus --enable-librsvg --enable-ffplay --pkg-config=/home/conda/feedstock_root/build_artifacts/ffmpeg_1739478357321/_build_env/bin/pkg-config\n",
      "  libavutil      59. 39.100 / 59. 39.100\n",
      "  libavcodec     61. 19.100 / 61. 19.100\n",
      "  libavformat    61.  7.100 / 61.  7.100\n",
      "  libavdevice    61.  3.100 / 61.  3.100\n",
      "  libavfilter    10.  4.100 / 10.  4.100\n",
      "  libswscale      8.  3.100 /  8.  3.100\n",
      "  libswresample   5.  3.100 /  5.  3.100\n",
      "  libpostproc    58.  3.100 / 58.  3.100\n",
      "Input #0, mov,mp4,m4a,3gp,3g2,mj2, from 'videos/n9nC8liwZ5Y/n9nC8liwZ5Y_scenes/scene_008.mp4':\n",
      "  Metadata:\n",
      "    major_brand     : isom\n",
      "    minor_version   : 512\n",
      "    compatible_brands: isomiso2avc1mp41\n",
      "    encoder         : Lavf61.7.100\n",
      "  Duration: 00:00:12.05, start: 2.961000, bitrate: 493 kb/s\n",
      "  Stream #0:0[0x1](und): Video: h264 (High) (avc1 / 0x31637661), yuv420p(tv, bt709, progressive), 1280x720, 490 kb/s, 23.98 fps, 23.98 tbr, 24k tbn (default)\n",
      "      Metadata:\n",
      "        handler_name    : ISO Media file produced by Google Inc. Created on: 02/02/2025.\n",
      "        vendor_id       : [0][0][0][0]\n",
      "        encoder         : Lavc61.19.100 libx264\n"
     ]
    },
    {
     "name": "stdout",
     "output_type": "stream",
     "text": [
      "Number of i-frames: 10\n",
      "Spider-Man movie poster. Red background. Text advertises digital, Blu-ray, and DVD release. \"Subscribe\" and \"The hottest trailers!\" prompts.\n",
      "\n",
      "Captioning complete! Final captions saved to: videos/n9nC8liwZ5Y/n9nC8liwZ5Y_scenes/final_captions.txt\n"
     ]
    },
    {
     "data": {
      "text/plain": [
       "'Scene 1: A carjacking occurs at night in a busy city street. A crowd gathers as police arrive. Peter Parker, a young man, rushes to help an injured man, Uncle Ben, who is lying on the ground. The scene captures the urgency and concern of the moment.\\nScene 2: Peter Parker rushes to help an injured Uncle Ben, expressing concern and urgency.\\nScene 3: Peter Parker cries as he rushes to help an injured Uncle Ben, with three cars pursuing him.\\nScene 4: Spider-Man climbs up building, leaps across rooftops, descends into alleyway.\\nScene 5: Spider-Man swings through city at night.\\nScene 6: Spider-Man swings through the city at night, dodging traffic and navigating urban obstacles.\\nScene 7: Police officers search building at night, flashlight beams illuminating dark interior.\\nScene 8: Spider-Man movie poster. Red background. Text advertises digital, Blu-ray, and DVD release. \"Subscribe\" and \"The hottest trailers!\" prompts.'"
      ]
     },
     "execution_count": 73,
     "metadata": {},
     "output_type": "execute_result"
    }
   ],
   "source": [
    "process_all_scenes(\"videos/n9nC8liwZ5Y/n9nC8liwZ5Y_scenes\")"
   ]
  }
 ],
 "metadata": {
  "kernelspec": {
   "display_name": "CS7980_YouDescribe",
   "language": "python",
   "name": "python3"
  },
  "language_info": {
   "codemirror_mode": {
    "name": "ipython",
    "version": 3
   },
   "file_extension": ".py",
   "mimetype": "text/x-python",
   "name": "python",
   "nbconvert_exporter": "python",
   "pygments_lexer": "ipython3",
   "version": "3.9.21"
  }
 },
 "nbformat": 4,
 "nbformat_minor": 2
}
