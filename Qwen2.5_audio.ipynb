{
 "cells": [
  {
   "cell_type": "code",
   "execution_count": 1,
   "metadata": {},
   "outputs": [],
   "source": [
    "import torchvision\n",
    "import transformers\n",
    "import torch"
   ]
  },
  {
   "cell_type": "code",
   "execution_count": 2,
   "metadata": {},
   "outputs": [
    {
     "data": {
      "application/vnd.jupyter.widget-view+json": {
       "model_id": "bc7ed229c6034e3aa9167ecdf62627bb",
       "version_major": 2,
       "version_minor": 0
      },
      "text/plain": [
       "Loading checkpoint shards:   0%|          | 0/5 [00:00<?, ?it/s]"
      ]
     },
     "metadata": {},
     "output_type": "display_data"
    }
   ],
   "source": [
    "from transformers import Qwen2_5_VLForConditionalGeneration, AutoTokenizer, AutoProcessor, GenerationConfig\n",
    "from qwen_vl_utils import process_vision_info\n",
    "\n",
    "model = Qwen2_5_VLForConditionalGeneration.from_pretrained(\n",
    "    \"Qwen/Qwen2.5-VL-7B-Instruct\", torch_dtype=\"auto\", device_map=\"auto\"\n",
    ")\n",
    "processor = AutoProcessor.from_pretrained(\"Qwen/Qwen2.5-VL-7B-Instruct\")"
   ]
  },
  {
   "cell_type": "code",
   "execution_count": 3,
   "metadata": {},
   "outputs": [],
   "source": [
    "import os\n",
    "import subprocess\n",
    "import torch\n",
    "\n",
    "def generate_scene_caption(scene_data, previous_caption=None):\n",
    "    # Clear CUDA cache\n",
    "    torch.cuda.empty_cache()\n",
    "\n",
    "    video_length = scene_data.get(\"duration\", 0)\n",
    "    fps = 1.0\n",
    "    max_frames_value = min(32, int(video_length * fps))\n",
    "\n",
    "    previous_context = \"\"\n",
    "    if previous_caption:\n",
    "        previous_context = (\n",
    "            f\"Previously described:\\n{previous_caption}\\n\\n\"\n",
    "            \"Do not repeat the same information.\\n\"\n",
    "        )\n",
    "\n",
    "    if scene_data.get(\"captions\"):\n",
    "        captions_text = \"\\n\".join([f\"- {caption}\" for caption in scene_data[\"captions\"]])\n",
    "        scene_context = f\"Scene {scene_data['scene_number']} captions:\\n{captions_text}\\n\"\n",
    "    else:\n",
    "        scene_context = \"\"\n",
    "\n",
    "    # Build audio context if an audio transcript is available\n",
    "    audio_context = \"\"\n",
    "    if scene_data.get(\"transcript_path\"):\n",
    "        try:\n",
    "            with open(scene_data[\"transcript_path\"], \"r\", encoding=\"utf-8\") as af:\n",
    "                audio_text = af.read().strip()\n",
    "            if audio_text:\n",
    "                audio_context = (\n",
    "                    f\"Audio transcript for Scene {scene_data['scene_number']}:\\n{audio_text}\\n\"\n",
    "                    \"Important: When describing the scene, combine what you observe visually with the context provided in the audio transcript. \" \n",
    "                    \"Use the audio information to enrich your understanding of the events and actions happening in the scene. \"\n",
    "                    \"Create a natural description that weaves together both visual and audio elements.\\n\"\n",
    "                )\n",
    "\n",
    "        except Exception as e:\n",
    "            print(f\"Error reading audio transcript: {e}\")\n",
    "\n",
    "    # Base prompt \n",
    "    base_prompt = (\n",
    "    \"Describe what is happening in this scene by integrating visual observations with available audio context and scene context. \"\n",
    "    \"Consider both what you see and any additional context from the audio transcript and scene context to provide a complete understanding of the scene. \"\n",
    "    \"Important: Be concise and conversational. The generated description should not be more than 5 seconds long.\"\n",
    "    )\n",
    "\n",
    "    # Enhanced prompt.\n",
    "    enhanced_prompt = (\n",
    "        f\"{previous_context}\"\n",
    "        f\"{scene_context}\\n\"\n",
    "        f\"{audio_context}\\n\"\n",
    "        f\"{base_prompt}\\n\"\n",
    "    )\n",
    "\n",
    "\n",
    "    messages = [\n",
    "        {\n",
    "            \"role\": \"user\",\n",
    "            \"content\": [\n",
    "                {\n",
    "                    \"type\": \"video\",\n",
    "                    \"video\": scene_data['video_path'],\n",
    "                    \"max_pixels\": 320 * 240,\n",
    "                    \"fps\": fps,\n",
    "                    \"max_frames\": max_frames_value,\n",
    "                },\n",
    "                {\"type\": \"text\", \"text\": enhanced_prompt},\n",
    "            ],\n",
    "        }\n",
    "    ]\n",
    "\n",
    "    print(f\"Processing Scene {scene_data['scene_number']} with max_frames={max_frames_value}\")\n",
    "\n",
    "    dtype = torch.bfloat16\n",
    "\n",
    "    with torch.amp.autocast('cuda', dtype=dtype):\n",
    "        text = processor.apply_chat_template(\n",
    "            messages, tokenize=False, add_generation_prompt=True\n",
    "        )\n",
    "        image_inputs, video_inputs = process_vision_info(messages)\n",
    "        inputs = processor(\n",
    "            text=[text],\n",
    "            images=image_inputs,\n",
    "            videos=video_inputs,\n",
    "            padding=True,\n",
    "            return_tensors=\"pt\",\n",
    "        )\n",
    "\n",
    "        inputs = inputs.to(\"cuda\", dtype=dtype)\n",
    "        input_length = inputs.input_ids.shape[1]\n",
    "\n",
    "        with torch.no_grad():\n",
    "            generation_config = GenerationConfig(\n",
    "                max_new_tokens=128,\n",
    "                do_sample=False,\n",
    "                num_beams=1\n",
    "            )\n",
    "\n",
    "            generated_ids = model.generate(\n",
    "                **inputs,\n",
    "                generation_config=generation_config\n",
    "            )\n",
    "\n",
    "        generated_ids_trimmed = generated_ids[:, input_length:]\n",
    "        output_list = processor.batch_decode(\n",
    "            generated_ids_trimmed,\n",
    "            skip_special_tokens=True,\n",
    "            clean_up_tokenization_spaces=False\n",
    "        )\n",
    "\n",
    "    del inputs, generated_ids, generated_ids_trimmed\n",
    "    torch.cuda.empty_cache()\n",
    "    output_text = ''.join(output_list)\n",
    "    if output_text:\n",
    "        clean_text = output_text.split(\"addCriterion\")[0].strip()\n",
    "    return clean_text if output_text else output_text"
   ]
  },
  {
   "cell_type": "code",
   "execution_count": 22,
   "metadata": {},
   "outputs": [],
   "source": [
    "import json\n",
    "def get_scene_data(scene_number, scenes_json_path):\n",
    "    with open(scenes_json_path, 'r') as f:\n",
    "        scenes = json.load(f)\n",
    "\n",
    "    for scene in scenes:\n",
    "        if scene[\"scene_number\"] == scene_number:\n",
    "            return scene\n",
    "\n",
    "    raise ValueError(f\"Scene {scene_number} not found in {scenes_json_path}\")\n",
    "scene_2_data = get_scene_data(2, f\"videos/n9nC8liwZ5Y/n9nC8liwZ5Y_scenes/scene_info.json\")"
   ]
  },
  {
   "cell_type": "code",
   "execution_count": 5,
   "metadata": {},
   "outputs": [
    {
     "data": {
      "text/plain": [
       "{'scene_number': 2,\n",
       " 'start_frame': 744,\n",
       " 'end_frame': 1330,\n",
       " 'start_time': 31.03094176152061,\n",
       " 'end_time': 55.47197922422367,\n",
       " 'duration': 24.441037462703058,\n",
       " 'video_path': 'videos/n9nC8liwZ5Y/n9nC8liwZ5Y_scenes/scene_002.mp4',\n",
       " 'transcript_path': 'videos/n9nC8liwZ5Y/n9nC8liwZ5Y_scenes/scene_002.txt'}"
      ]
     },
     "execution_count": 5,
     "metadata": {},
     "output_type": "execute_result"
    }
   ],
   "source": [
    "scene_2_data"
   ]
  },
  {
   "cell_type": "code",
   "execution_count": 26,
   "metadata": {},
   "outputs": [
    {
     "name": "stdout",
     "output_type": "stream",
     "text": [
      "Processing Scene 2 with max_frames=24\n"
     ]
    },
    {
     "data": {
      "text/plain": [
       "'The scene shows an older man, presumably Uncle Ben, in a distressed state, looking upwards with a worried expression. A younger man, Peter, is seen comforting him, gently holding his hand. The audio indicates that Peter is trying to reassure Uncle Ben, calling out his name and promising to stay with him. The setting appears to be a dimly lit, possibly outdoor or industrial environment, adding to the tension of the moment.'"
      ]
     },
     "execution_count": 26,
     "metadata": {},
     "output_type": "execute_result"
    }
   ],
   "source": [
    "generate_scene_caption(scene_2_data)"
   ]
  },
  {
   "cell_type": "code",
   "execution_count": 4,
   "metadata": {},
   "outputs": [],
   "source": [
    "import os\n",
    "import json\n",
    "\n",
    "def process_all_scenes(scene_folder):\n",
    "    scenes_json_path = os.path.join(scene_folder, \"scene_info.json\")\n",
    "    if not os.path.exists(scenes_json_path):\n",
    "        print(f\"Error: scene_info.json not found in {scene_folder}\")\n",
    "        return\n",
    "\n",
    "    with open(scenes_json_path, \"r\") as f:\n",
    "        scene_list = json.load(f)\n",
    "\n",
    "    print(f\"Processing {len(scene_list)} scenes in {scene_folder}...\")\n",
    "\n",
    "    captions = []\n",
    "    previous_caption = None\n",
    "\n",
    "    for idx, scene_data in enumerate(scene_list, start=1):\n",
    "        scene_caption = generate_scene_caption(scene_data, previous_caption=previous_caption)\n",
    "        captions.append(scene_caption)\n",
    "        previous_caption = scene_caption\n",
    "\n",
    "    # Merge captions\n",
    "    final_caption_text = \"\\n\".join(\n",
    "        [f\"Scene {i+1}: {desc}\" for i, desc in enumerate(captions)]\n",
    "    )\n",
    "\n",
    "    # Save captions to a text file\n",
    "    caption_output_path = os.path.join(scene_folder, \"final_captions.txt\")\n",
    "    with open(caption_output_path, \"w\") as f:\n",
    "        f.write(final_caption_text)\n",
    "\n",
    "    print(f\"\\nCaptioning complete! Final captions saved to: {caption_output_path}\")\n",
    "    return final_caption_text"
   ]
  },
  {
   "cell_type": "code",
   "execution_count": 5,
   "metadata": {},
   "outputs": [
    {
     "name": "stdout",
     "output_type": "stream",
     "text": [
      "Processing 21 scenes in videos/n9nC8liwZ5Y/n9nC8liwZ5Y_scenes...\n",
      "Processing Scene 1 with max_frames=31\n"
     ]
    },
    {
     "name": "stderr",
     "output_type": "stream",
     "text": [
      "qwen-vl-utils using decord to read video.\n"
     ]
    },
    {
     "name": "stdout",
     "output_type": "stream",
     "text": [
      "Processing Scene 2 with max_frames=24\n",
      "Processing Scene 3 with max_frames=6\n",
      "Processing Scene 4 with max_frames=9\n",
      "Processing Scene 5 with max_frames=16\n",
      "Processing Scene 6 with max_frames=13\n",
      "Processing Scene 7 with max_frames=6\n",
      "Processing Scene 8 with max_frames=6\n",
      "Processing Scene 9 with max_frames=27\n",
      "Processing Scene 10 with max_frames=12\n",
      "Processing Scene 11 with max_frames=17\n",
      "Processing Scene 12 with max_frames=5\n",
      "Processing Scene 13 with max_frames=32\n",
      "Processing Scene 14 with max_frames=5\n",
      "Processing Scene 15 with max_frames=12\n",
      "Processing Scene 16 with max_frames=5\n",
      "Processing Scene 17 with max_frames=32\n",
      "Processing Scene 18 with max_frames=5\n",
      "Processing Scene 19 with max_frames=29\n",
      "Processing Scene 20 with max_frames=13\n",
      "Processing Scene 21 with max_frames=15\n",
      "\n",
      "Captioning complete! Final captions saved to: videos/n9nC8liwZ5Y/n9nC8liwZ5Y_scenes/final_captions.txt\n"
     ]
    },
    {
     "data": {
      "text/plain": [
       "'Scene 1: The scene opens with a young man standing on a busy city street at night, looking around nervously. Suddenly, a crowd gathers, and a commotion ensues. The young man is surrounded by people, and a police officer appears, trying to control the situation. The audio reveals that a car jacker has been shot, and paramedics are on the way. The young man seems to be in the middle of the chaos, possibly trying to help or understand what\\'s happening.\\nScene 2: The scene shifts to a dimly lit room where an older man, presumably Uncle Ben, is sitting in a chair, appearing distressed. A younger man, Peter, is seen comforting him, gently holding his hand. The audio reveals Peter calling out to Uncle Ben, asking him to stay on their way and stay back, indicating a sense of urgency and concern. The interaction between the two suggests a moment of emotional support amidst a tense situation.\\nScene 3: The scene shows an older man, presumably Uncle Ben, with a distressed expression, his face covered in sweat. He appears to be in a dimly lit, possibly outdoor setting. The audio reveals Peter calling out to Uncle Ben, urging him to stay on their way and stay back, indicating a sense of urgency and concern. The interaction suggests a moment of emotional support amidst a tense situation.\\nScene 4: The scene shows a close-up of a distressed older man, presumably Uncle Ben, with a worried expression and sweat on his face. The audio reveals Peter calling out to Uncle Ben, urging him to stay on their way and stay back, indicating a sense of urgency and concern. The interaction suggests a moment of emotional support amidst a tense situation.\\nScene 5: The scene shows a close-up of a distressed man, likely Peter Parker, with a worried expression and sweat on his face. The background is dark, suggesting a nighttime setting, and there are other people around, possibly in a crowd or a tense situation. The audio indicates that Peter is involved in a chase, with someone saying they have the shooter and instructions about closing in on the target. The urgency in Peter\\'s expression and the audio context suggest he is in a high-stakes situation, possibly trying to help or locate someone.\\nScene 6: The scene shifts to a dimly lit alleyway, where a figure in a red jacket is seen running, possibly evading someone. The environment is chaotic, with debris scattered on the ground, suggesting a recent disturbance or conflict. The audio indicates a chase is underway, with someone saying they have the shooter and instructions to close in on the target. The urgency in the voice-over and the character\\'s movements imply a high-stakes situation, likely involving a pursuit or escape.\\nScene 7: The scene shows a figure in a red jacket running through a dimly lit alleyway, with debris scattered on the ground. The audio indicates a chase is underway, with someone saying they have the shooter and instructions to close in on the target. The urgency in the voice-over and the character\\'s movements suggest a high-stakes pursuit or escape.\\nScene 8: The scene depicts a figure in a red jacket running frantically through a dark, debris-strewn alleyway. The urgency in the voice-over suggests a high-stakes chase, with someone calling out to close in on the target. The dim lighting and scattered debris add to the tense atmosphere.\\nScene 9: The scene shifts to a high-angle view of a city street at night, where a figure in a red suit is seen swinging through the air, likely using webbing. The city is bustling with traffic, and the dim lighting creates a dramatic, action-packed atmosphere. The figure\\'s swift movements suggest they are evading or pursuing something, adding to the tension.\\nScene 10: The scene captures a figure in a red suit swinging through a dimly lit cityscape at night. The character\\'s swift, agile movements suggest they are either evading or pursuing something, adding to the tension. The bustling city street below, with its traffic and lights, enhances the dramatic, action-packed atmosphere.\\nScene 11: The character in the red suit continues their swift descent through the city, their movements fluid and purposeful. The dimly lit streets and the distant hum of the city create a tense, action-filled atmosphere, as if they are on a mission.\\nScene 12: The character in the red suit continues their rapid descent through the city, their movements precise and determined. The dimly lit streets and the distant hum of the city create a tense, action-filled atmosphere, as if they are on a critical mission.\\nScene 13: The character in the red suit continues their rapid descent through the city, their movements precise and determined. The dimly lit streets and the distant hum of the city create a tense, action-filled atmosphere, as if they are on a critical mission. The audio transcript adds to the urgency, with the repeated \"Oh Oh\" suggesting a sense of danger or urgency.\\nScene 14: The character in the red suit is descending rapidly through a dimly lit, industrial environment, their movements precise and focused. The distant \"Oh Oh\" in the audio suggests a sense of urgency or danger, indicating that the character is likely on a critical mission. The scene is tense, with the character navigating through the cluttered, shadowy space, possibly evading or pursuing something.\\nScene 15: The character in the red suit is descending rapidly through a dimly lit, industrial environment, their movements precise and focused. The distant \"Oh Oh\" in the audio suggests a sense of urgency or danger, indicating that the character is likely on a critical mission. The scene is tense, with the character navigating through the cluttered, shadowy space, possibly evading or pursuing something.\\nScene 16: The character in the red suit is descending rapidly through a dimly lit, industrial environment, their movements precise and focused. The distant \"Oh Oh\" in the audio suggests a sense of urgency or danger, indicating that the character is likely on a critical mission. The scene is tense, with the character navigating through the cluttered, shadowy space, possibly evading or pursuing something.\\nScene 17: The character in the red suit is engaged in a tense confrontation, their body language suggesting urgency and determination. The audio reveals a plea for mercy and a search for someone named Miss Erula, indicating a high-stakes situation. The dimly lit, industrial setting adds to the sense of danger and mystery, as the character navigates through the cluttered space, possibly evading or pursuing something.\\nScene 18: The character in the red suit appears to be in a tense situation, possibly evading or confronting someone. Their expression and posture suggest urgency and determination. The dim, industrial setting enhances the sense of danger and mystery, as the character searches for Miss Erula, indicating a high-stakes scenario.\\nScene 19: The character in the red suit is seen in a tense situation, possibly evading or confronting someone. Their urgent and determined expression, combined with the dim, industrial setting, suggests a high-stakes scenario. The audio transcript indicates that the character is reacting to something unusual or unexpected, adding to the sense of urgency and danger.\\nScene 20: In this scene, a character is seen holding a flashlight, illuminating a dark, industrial environment. The flashlight beam cuts through the shadows, revealing the intricate metalwork and machinery of the setting. The audio suggests that the character is searching for something or someone, adding a sense of urgency to the dimly lit, confined space.\\nScene 21: The scene shows a close-up of Spider-Man\\'s back, with a red background and text promoting the movie\\'s availability on various platforms. The text also encourages viewers to subscribe and watch more trailers.'"
      ]
     },
     "execution_count": 5,
     "metadata": {},
     "output_type": "execute_result"
    }
   ],
   "source": [
    "process_all_scenes(\"videos/n9nC8liwZ5Y/n9nC8liwZ5Y_scenes\")"
   ]
  }
 ],
 "metadata": {
  "kernelspec": {
   "display_name": "CS7980_YouDescribe",
   "language": "python",
   "name": "python3"
  },
  "language_info": {
   "codemirror_mode": {
    "name": "ipython",
    "version": 3
   },
   "file_extension": ".py",
   "mimetype": "text/x-python",
   "name": "python",
   "nbconvert_exporter": "python",
   "pygments_lexer": "ipython3",
   "version": "3.9.18"
  }
 },
 "nbformat": 4,
 "nbformat_minor": 2
}
